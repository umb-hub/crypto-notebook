{
 "cells": [
  {
   "cell_type": "markdown",
   "metadata": {},
   "source": [
    "# Symmetric Cryptography\n",
    "\n",
    "Symmetric cryptography is refering to all algorithms that use the same keys for both the encryption of plaintext and the decryption of ciphertext.\n",
    "\n",
    "The keys, in practice, represent a shared secret between two or more parties that can be used to maintain a private information link. The requirement that both parties have access to the secret key is one of the main drawbacks of symmetric-key encryption, in comparison to asymmetric-key encryption.\n",
    "\n",
    "## Types\n",
    "\n",
    "Symmetric-key ciphers can be divided in [stream ciphers](./Symmetrical/Block%20Stream%20Cipher.ipynb) or [block ciphers](./Symmetrical/Block%20Cipher.ipynb):\n",
    "\n",
    "- Stream ciphers encrypt the digits (typically bytes), or letters (in substitution ciphers) of a message one at a time. An example is [**RC4**](./Symmetrical/Block%20Stream%20Cipher.ipynb#RC4).\n",
    "- Block ciphers take a number of bits and encrypt them as a single unit, padding the plaintext so that it is a multiple of the block size. An example is [**DES**](./Symmetrical/DES.ipynb) and [**AES**](./Symmetrical/AES.ipynb). \n",
    "\n",
    "## Lessons\n",
    "| Lesson                                | Date        | Description |\n",
    "| :----:                                 | ----        | ----------- |\n",
    "| [Symmetric Cryptografy - Block Cipher Criptography](./Symmetrical/Block%20Cipher.ipynb)   | 25/03/2021  | Block Cipher : DES/AES and Cipher modes |\n",
    "| [Symmetric Cryptografy - Block Cipher Modes CryptoAnalysis](./Symmetrical/Block%20Attacks.ipynb)   | 25/03/2021  | Block Cipher Modes Attacks: Bitflipping and Oracle Padding |\n",
    "| [Symmetric Cryptografy - Stream Ciphers](./Crypto/Symmetric/Stream)   | 08/04/2021  | Asymmetric ciphers: RC4 |"
   ]
  }
 ],
 "metadata": {
  "kernelspec": {
   "display_name": "Python 3",
   "language": "python",
   "name": "python3"
  },
  "language_info": {
   "codemirror_mode": {
    "name": "ipython",
    "version": 3
   },
   "file_extension": ".py",
   "mimetype": "text/x-python",
   "name": "python",
   "nbconvert_exporter": "python",
   "pygments_lexer": "ipython3",
   "version": "3.7.3"
  }
 },
 "nbformat": 4,
 "nbformat_minor": 2
}
