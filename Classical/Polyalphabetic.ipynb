{
 "cells": [
  {
   "cell_type": "markdown",
   "metadata": {},
   "source": [
    "\n",
    "# Contents\n",
    "- [Vigenere](#Vigenère-Chiper)\n",
    "\n",
    "# Vigenère Chiper\n",
    "\n",
    "Vigenère chiper is a polyalphabetic cipher, that use a circular shift substitution.\n",
    "\n",
    "Shift substitution is defined by a string, that is the **key**.\n",
    "\n",
    "To encrypt, each character in plaintext is shifted by the amount dictated by character of the key.\n",
    "\n",
    "Example:\n",
    "```\n",
    "Plaintext:  tellhimaboutme\n",
    "Key:        cafe\n",
    "\n",
    "ALGORITHM:\n",
    "Plaintext:  tellhimaboutme\n",
    "Key-apply:  cafecafecafeca\n",
    "Chipertext: veqpjiredozxoe\n",
    "```\n",
    "\n",
    "## Math Cryptoanalysis\n",
    "\n",
    "### Bruteforce\n",
    "Using bruteforce approach is possible when key length is small, because there are few possible combination.\n",
    "\n",
    "For example, a 4 length-key has a calcolable number of permutation:\n",
    "\n",
    "$$ 26^4 = 456976 $$\n",
    "\n",
    "### Frequency Analysis\n",
    "Using frequency analysis is possible: applying it each k*n indexed char where k is key length. \n",
    "\n",
    "Nevertheless, respect a frequency analysis in a monoalphabetic cipher it is needed more data.\n",
    "\n",
    "### Kasinski test\n",
    "Key length plays a fundamental role in cryptoanalysis of Vigenère cipher.\n",
    "\n",
    "Kasinski test is a statistic tool that could be used to estimate key length.\n",
    "\n",
    "### ToDo:\n",
    "- Explain Kasinski test\n",
    "- Recompile concepts\n",
    "- Add enigma example\n",
    "- Add variants\n",
    "- [Show tool](http://www.brianveitch.com/maze-runner/frequency-analysis-vigenere/index.html)"
   ]
  },
  {
   "cell_type": "code",
   "execution_count": null,
   "metadata": {},
   "outputs": [],
   "source": []
  }
 ],
 "metadata": {
  "kernelspec": {
   "display_name": "Python 3",
   "language": "python",
   "name": "python3"
  },
  "language_info": {
   "codemirror_mode": {
    "name": "ipython",
    "version": 3
   },
   "file_extension": ".py",
   "mimetype": "text/x-python",
   "name": "python",
   "nbconvert_exporter": "python",
   "pygments_lexer": "ipython3",
   "version": "3.7.3"
  }
 },
 "nbformat": 4,
 "nbformat_minor": 2
}
