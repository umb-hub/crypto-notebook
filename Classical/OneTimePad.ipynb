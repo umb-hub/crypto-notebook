{
 "cells": [
  {
   "cell_type": "markdown",
   "metadata": {},
   "source": [
    "# One Time Pad (Vernam Cipher)\n",
    "\n",
    "The perfect cipher is the One-Time Pad. It generate a key that will be never reused, with a key-length equals to message-length.\n",
    "\n",
    "Nevertheless to use one-time pad, it's needed to send a key as long as message (it's needed a key-stream), then key exchange can be a problem.\n",
    "\n",
    "## Cryptography\n",
    "One-Time Pad ensure that exists infinite pair (message,key) for any ciphertext, then it is not breakable (perfect cipher).\n",
    "\n",
    "## Cryptoanalysis\n",
    "If OTP's key is reused then is possible apply cryptoanalysis to ciphertexts. **(This is a wrong use of OTP.)**\n",
    "\n",
    "## ToDo:\n",
    "- Mathematical Background\n",
    "- MTP tool"
   ]
  },
  {
   "cell_type": "code",
   "execution_count": null,
   "metadata": {},
   "outputs": [],
   "source": []
  }
 ],
 "metadata": {
  "kernelspec": {
   "display_name": "Python 3",
   "language": "python",
   "name": "python3"
  },
  "language_info": {
   "codemirror_mode": {
    "name": "ipython",
    "version": 3
   },
   "file_extension": ".py",
   "mimetype": "text/x-python",
   "name": "python",
   "nbconvert_exporter": "python",
   "pygments_lexer": "ipython3",
   "version": "3.7.3"
  }
 },
 "nbformat": 4,
 "nbformat_minor": 2
}
