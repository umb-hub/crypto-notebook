{
 "cells": [
  {
   "cell_type": "markdown",
   "metadata": {},
   "source": [
    "# Rail fence\n",
    "\n",
    "Railfence is a cipher that use transposition method.\n",
    "\n",
    "Plaintext is written downwards e diagonally on \"rails\" of imaginary fence.\n",
    "\n",
    "Key is the number of rails on which operate.\n",
    "\n",
    "Example:\n",
    "```\n",
    "Plaintext:  WEAREDISCOVEREDFLEEATONCE\n",
    "Rail-Fence: \n",
    "            W . . . E . . . C . . . R . . . L . . . T . . . E\n",
    "            . E . R . D . S . O . E . E . F . E . A . O . C .\n",
    "            . . A . . . I . . . V . . . D . . . E . . . N . .\n",
    "\n",
    "Ciphertext: WECRLTEERDSOEEFEAOCAIVDEN\n",
    "```\n",
    "\n",
    "## Cryptoanalysis\n",
    "\n",
    "### Bruteforce\n",
    "A bruteforce approach on key can be result successfull.\n",
    "\n",
    "### Frequency Analysis\n",
    "Frequency analysis is useless, because none character is changed.\n",
    "\n",
    "Futhermore, a frequency analysis on bi-grams or more cannot be usefull, because permutation destroys statical characteristic of plaintext."
   ]
  }
 ],
 "metadata": {
  "kernelspec": {
   "display_name": "Python 3",
   "language": "python",
   "name": "python3"
  },
  "language_info": {
   "codemirror_mode": {
    "name": "ipython",
    "version": 3
   },
   "file_extension": ".py",
   "mimetype": "text/x-python",
   "name": "python",
   "nbconvert_exporter": "python",
   "pygments_lexer": "ipython3",
   "version": "3.7.3"
  }
 },
 "nbformat": 4,
 "nbformat_minor": 2
}
