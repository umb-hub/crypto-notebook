{
 "cells": [
  {
   "cell_type": "markdown",
   "metadata": {},
   "source": [
    "# Contents\n",
    "\n",
    "- [Base64 Encoding](#Base64-Encoding)\n",
    "- [Caesar Cipher](#Caesar-Cipher)\n",
    "- [ROT Cipher](#ROT-Cipher)\n",
    "- [Monoalphabetic Cipher](#Monoalphabetic-Cipher)"
   ]
  },
  {
   "cell_type": "markdown",
   "metadata": {},
   "source": [
    "# Base64 Encoding\n",
    "Base64 encoding is not a cipher, because there is not a key, but it's a evaluable method.\n",
    "In Base64 encoding each 6 bits (plaintext unit) is traslated in 64 possible **printable** chars.\n",
    "\n",
    "## Padding\n",
    "If plaintext is not groupable through base64 encoding, then \"=\" char is use to pad remaining bits.\n",
    "\n",
    "## Table\n",
    "| Bits | Char | Bits | Char | Bits | Char | Bits | Char |\n",
    "| :--: | :--: | :--: | :--: | :--: | :--: | :--: | :--: |\n",
    "| 000000 | A | 010000 | Q | 100000 | g | 110000 | w | \n",
    "| 000001 | B | 010001 | R | 100001 | h | 110001 | x | \n",
    "| 000010 | C | 010010 | S | 100010 | i | 110010 | y | \n",
    "| 000011 | D | 010011 | T | 100011 | j | 110011 | z | \n",
    "| 000100 | E | 010100 | U | 100100 | k | 110100 | 0 | \n",
    "| 000101 | F | 010101 | V | 100101 | l | 110101 | 1 | \n",
    "| 000110 | G | 010110 | W | 100110 | m | 110110 | 2 | \n",
    "| 000111 | H | 010111 | X | 100111 | n | 110111 | 3 | \n",
    "| 001000 | J | 010000 | Y | 101000 | o | 111000 | 4 | \n",
    "| 001001 | K | 011001 | Z | 101001 | p | 111001 | 5 | \n",
    "| 001010 | I | 011010 | a | 101010 | q | 111010 | 6 | \n",
    "| 001011 | L | 011011 | b | 101011 | r | 111011 | 7 | \n",
    "| 001100 | M | 011100 | c | 101100 | s | 111100 | 8 | \n",
    "| 001101 | N | 011101 | d | 101101 | t | 111101 | 9 | \n",
    "| 001110 | O | 011110 | e | 101110 | u | 111110 | + | \n",
    "| 001111 | P | 011111 | f | 101111 | v | 111111 | / | \n",
    "\n",
    "## Example\n",
    "\n",
    "Plaintext:\n",
    "```\n",
    "Hello World\n",
    "```\n",
    "\n",
    "Ciphertext:\n",
    "```\n",
    "SGVsbG8gV29ybGQ=\n",
    "```"
   ]
  },
  {
   "cell_type": "code",
   "execution_count": 5,
   "metadata": {},
   "outputs": [
    {
     "name": "stdout",
     "output_type": "stream",
     "text": [
      "SGVsbG8gV29ybGQK\r\n"
     ]
    }
   ],
   "source": [
    "!echo \"Hello World\" | base64 "
   ]
  },
  {
   "cell_type": "markdown",
   "metadata": {},
   "source": [
    "# Caesar Cipher\n",
    "\n",
    "Caesar cipher is the first example of cipher in history.\n",
    "It's a simple substitution and monoalphabetic chipher.\n",
    "Every plaintext unit is circular shifted by 3 positions.\n",
    "\n",
    "```\n",
    "Plaintext:\n",
    "meet me after the toga party\n",
    "\n",
    "Ciphertext:\n",
    "PHHW PH DIWHU WKH WRJD SDUWB \n",
    "```"
   ]
  },
  {
   "cell_type": "code",
   "execution_count": 11,
   "metadata": {},
   "outputs": [
    {
     "name": "stdout",
     "output_type": "stream",
     "text": [
      "PHHW PH DIWHU WKH WRJD SDUWB\r\n"
     ]
    }
   ],
   "source": [
    "!echo \"MEET ME AFTER THE TOGA PARTY\" | tr '[A-Z]' '[D-ZA-C]'"
   ]
  },
  {
   "cell_type": "markdown",
   "metadata": {},
   "source": [
    "# ROT Cipher\n",
    "\n",
    "ROT Cipher is an Caesar Cipher extension, in which every unit is circular shifted by fixed position, that is the key.\n",
    "\n",
    "## Cryptography Math\n",
    "Considering plaintext unit as a character of alphabet, it's possible assign to any character a numeric value in ascending order (A = 0 to Z = 26).\n",
    "\n",
    "Following functions describe encrypt and decrypt:\n",
    "\n",
    "$$ c = E(p) = (p + k) \\mod 26 $$\n",
    "$$ p = E(c) = (c - k) \\mod 26 $$\n",
    "\n",
    "\n",
    "## Cryptoanalysis\n",
    "\n",
    "Techniques to break cipher:\n",
    "\n",
    "### Bruteforce\n",
    "How much possible combinations are there ?\n",
    "\n",
    "There are 26 possible keys due to modular arithmetic. So it's easily to break."
   ]
  },
  {
   "cell_type": "markdown",
   "metadata": {},
   "source": [
    "# Monoalphabetic Cipher\n",
    "\n",
    "ROT cipher is breakable due to few possible permutations.\n",
    "\n",
    "To avoid small number of permutation, it is possible substitute any char with anyelse without a schematic mapping.\n",
    "\n",
    "In this case, key is an alternative alphabet:\n",
    "\n",
    "Example:\n",
    "\n",
    "```\n",
    "Alphabet:   abcdefghijklmnopqrstuvwxyz\n",
    "Key:        DKVQFIBJWPESCXHTMYAUOLRGZN\n",
    "```\n",
    "\n",
    "Cypher:\n",
    "\n",
    "```\n",
    "Plaintext:  ifwewishtoreplaceletters\n",
    "Ciphertext: WIRFRWAJUHYSFTSDFSFUUFYA\n",
    "```\n",
    "\n",
    "## Cryptoanalysis\n",
    "\n",
    "### Bruteforce\n",
    "Using a bruteforce approach is not a good idea, because number of possible permutation is really high!\n",
    "\n",
    "$$26! = 4\\cdot10^{26}$$\n",
    "\n",
    "### Frequency Analysis\n",
    "\n",
    "Considering plaintext is human readable string, alphabet has statical property in any language.\n",
    "\n",
    "If plaintext's language is known then frequency of any letter is known.\n",
    "\n",
    "In order to apply a frequency analysis plaintext need to be long enough due to LLN (*Law of Large Numbers*) theorem.\n",
    "\n",
    "According to the law, the average of the results obtained from a large number of trials should be close to the expected value and will tend to become closer to the expected value as more trials are performed. [[1]](#1)\n",
    "\n",
    "### ToDo:\n",
    "Script for frequency analysis\n",
    "\n",
    "## References\n",
    "[1] : Dekking, Michel (2005). A Modern Introduction to Probability and Statistics. Springer. pp. 181–190. ISBN 9781852338961."
   ]
  },
  {
   "cell_type": "code",
   "execution_count": null,
   "metadata": {},
   "outputs": [],
   "source": []
  }
 ],
 "metadata": {
  "kernelspec": {
   "display_name": "Python 3",
   "language": "python",
   "name": "python3"
  },
  "language_info": {
   "codemirror_mode": {
    "name": "ipython",
    "version": 3
   },
   "file_extension": ".py",
   "mimetype": "text/x-python",
   "name": "python",
   "nbconvert_exporter": "python",
   "pygments_lexer": "ipython3",
   "version": "3.7.3"
  }
 },
 "nbformat": 4,
 "nbformat_minor": 2
}
