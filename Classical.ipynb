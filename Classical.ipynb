{
 "cells": [
  {
   "cell_type": "markdown",
   "metadata": {},
   "source": [
    "# Classical Ciphers\n",
    "\n",
    "## Cryptography Techniques\n",
    "\n",
    "### Subsistution Techniques\n",
    "Substition is a cryptography method: every unit of plaintext are replaced with ciphertext.\n",
    "It's possible differentiate those techniques in:\n",
    "- Monoalphabetic\n",
    "- Polyalphabetic\n",
    "\n",
    "\n",
    "### Transposition Techniques\n",
    "Transposition is a cryptography method, in which every position of plaintext's unit is changed. So ciphertext is a permutation of plaintext.\n",
    "\n",
    "## Cryptoanalysis Techniques\n",
    "\n",
    "##TODO\n",
    "\n",
    "- Bruteforce\n",
    "- Frequence Analysis\n",
    "- Entropy Analysis\n",
    "- Bigrams\n",
    "- Etc...\n",
    "\n",
    "## Crypto Table\n",
    "| Type | Name |\n",
    "| ---- | ---- |\n",
    "| Monoalphabetic | [BASE64](./Classical/Monoalphabetic.ipynb#Base64-Encoding)         |\n",
    "| Monoalphabetic | [ROT](./Classical/Monoalphabetic.ipynb#ROT-Cipher)             |\n",
    "| Monoalphabetic | [Monoalphabetic](./Classical/Monoalphabetic.ipynb#Monoalphabetic-Cipher)  |\n",
    "| Polyalphabetic | [Vigenère](./Classical/Polyalphabetic.ipynb##Vigenère-Chiper)  |\n",
    "| Transposition | [Rail Fence](./Classical/Transposition.ipynb#Rail-fence)  |\n",
    "| Mixed (*TODO*) | [Playfair](./Classical/Mixed.ipynb#Playfair.md)  |\n",
    "| OneTimePad | [OneTimePad](./Classical/OneTimePad.ipynb)  |\n",
    "\n",
    "## Tools\n",
    "| Cipher | Tool | Description |\n",
    "| -----  | ---- | ----------- |\n",
    "| Vigenère | [Brianveitch](http://www.brianveitch.com/maze-runner/frequency-analysis-vigenere/index.html) | Didactic manual tool with Kasinski Test |\n",
    "| Any    | [quipqiup](http://www.quipqiup.com/) | Automatic tool for crypto |\n",
    "| Any    | [Cyberchef](https://gchq.github.io/CyberChef/) | Swiss knife for crypto |\n",
    "| Any    | [dCode](https://www.dcode.fr/en) | Multiple tools for crypto |\n"
   ]
  }
 ],
 "metadata": {
  "kernelspec": {
   "display_name": "Python 3",
   "language": "python",
   "name": "python3"
  },
  "language_info": {
   "codemirror_mode": {
    "name": "ipython",
    "version": 3
   },
   "file_extension": ".py",
   "mimetype": "text/x-python",
   "name": "python",
   "nbconvert_exporter": "python",
   "pygments_lexer": "ipython3",
   "version": "3.7.3"
  }
 },
 "nbformat": 4,
 "nbformat_minor": 2
}
