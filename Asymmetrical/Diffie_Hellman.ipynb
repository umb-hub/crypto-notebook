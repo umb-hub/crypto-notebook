{
 "cells": [
  {
   "cell_type": "markdown",
   "metadata": {
    "id": "UT4zkKKiN4IS"
   },
   "source": [
    "# Diffie-Hellman"
   ]
  },
  {
   "cell_type": "markdown",
   "metadata": {
    "id": "jj-Yu33sN6ku"
   },
   "source": [
    "**Diffie-Hellman Key Exchange** is first public-key scheme proposed by Diffie & Hellamn in 1976, who exposed public-key concept (*indeed Williamson proposed secretly, in military environment, the concept in 1970*).\n",
    "\n",
    "DH is a pratical method for public key echange of a secret key, commonly used in commercial products. Partecipants choose their private and public key information randomly and exchange only public key information in order to communicate.\n",
    "\n",
    "DH is based on exponentation in a finite field (*Galois Field*) on modulo prime or a polynomial, that is easy to compute. Futhermore, it is hard to compute **discrete logarithms** on modulo prime to know exponent. (**TRAP-DOOR FUNCTION**)\n"
   ]
  },
  {
   "cell_type": "markdown",
   "metadata": {
    "id": "9-htjrrlOm1c"
   },
   "source": [
    "## Math Background"
   ]
  },
  {
   "cell_type": "markdown",
   "metadata": {
    "id": "GvuI-7ddQjb_"
   },
   "source": [
    "### Primitive Roots"
   ]
  },
  {
   "cell_type": "markdown",
   "metadata": {
    "id": "GkOdJzfgQnEw"
   },
   "source": [
    "Recalling Euler's theorem:\n",
    "\n",
    "$$\\forall a,n \\in N: GCD(a,n) = 1 \\implies a^{\\phi (n)} \\mod n = 1$$\n",
    "\n",
    "Suppose to exists $m$, that:\n",
    "\n",
    "$$a^{m} \\mod n = 1$$\n",
    "\n",
    "Then:\n",
    "\n",
    "$$\\forall k > m : a^{m+k} \\mod n = a^{k} \\mod n$$\n",
    "\n",
    "There is a cycle in module exponentation, if $m = \\phi(n)$ then $a$ is a **primitive root** of n."
   ]
  },
  {
   "cell_type": "code",
   "execution_count": 1,
   "metadata": {
    "colab": {
     "base_uri": "https://localhost:8080/"
    },
    "id": "PXnMB44AVZgB",
    "outputId": "c649b416-5629-4943-b0f4-a3595210c0a8"
   },
   "outputs": [
    {
     "name": "stdout",
     "output_type": "stream",
     "text": [
      "\u001b[31m\n",
      "[1, 1, 1, 1, 1, 1, 1, 1, 1, 1, 1, 1, 1, 1, 1, 1, 1, 1]\n",
      "\u001b[32m\n",
      "[2, 4, 8, 16, 13, 7, 14, 9, 18, 17, 15, 11, 3, 6, 12, 5, 10, 1]\n",
      "\u001b[32m\n",
      "[3, 9, 8, 5, 15, 7, 2, 6, 18, 16, 10, 11, 14, 4, 12, 17, 13, 1]\n",
      "\u001b[31m\n",
      "[4, 16, 7, 9, 17, 11, 6, 5, 1, 4, 16, 7, 9, 17, 11, 6, 5, 1]\n",
      "\u001b[31m\n",
      "[5, 6, 11, 17, 9, 7, 16, 4, 1, 5, 6, 11, 17, 9, 7, 16, 4, 1]\n",
      "\u001b[31m\n",
      "[6, 17, 7, 4, 5, 11, 9, 16, 1, 6, 17, 7, 4, 5, 11, 9, 16, 1]\n",
      "\u001b[31m\n",
      "[7, 11, 1, 7, 11, 1, 7, 11, 1, 7, 11, 1, 7, 11, 1, 7, 11, 1]\n",
      "\u001b[31m\n",
      "[8, 7, 18, 11, 12, 1, 8, 7, 18, 11, 12, 1, 8, 7, 18, 11, 12, 1]\n",
      "\u001b[31m\n",
      "[9, 5, 7, 6, 16, 11, 4, 17, 1, 9, 5, 7, 6, 16, 11, 4, 17, 1]\n",
      "\u001b[32m\n",
      "[10, 5, 12, 6, 3, 11, 15, 17, 18, 9, 14, 7, 13, 16, 8, 4, 2, 1]\n",
      "\u001b[31m\n",
      "[11, 7, 1, 11, 7, 1, 11, 7, 1, 11, 7, 1, 11, 7, 1, 11, 7, 1]\n",
      "\u001b[31m\n",
      "[12, 11, 18, 7, 8, 1, 12, 11, 18, 7, 8, 1, 12, 11, 18, 7, 8, 1]\n",
      "\u001b[32m\n",
      "[13, 17, 12, 4, 14, 11, 10, 16, 18, 6, 2, 7, 15, 5, 8, 9, 3, 1]\n",
      "\u001b[32m\n",
      "[14, 6, 8, 17, 10, 7, 3, 4, 18, 5, 13, 11, 2, 9, 12, 16, 15, 1]\n",
      "\u001b[32m\n",
      "[15, 16, 12, 9, 2, 11, 13, 5, 18, 4, 3, 7, 10, 17, 8, 6, 14, 1]\n",
      "\u001b[31m\n",
      "[16, 9, 11, 5, 4, 7, 17, 6, 1, 16, 9, 11, 5, 4, 7, 17, 6, 1]\n",
      "\u001b[31m\n",
      "[17, 4, 11, 16, 6, 7, 5, 9, 1, 17, 4, 11, 16, 6, 7, 5, 9, 1]\n",
      "\u001b[31m\n",
      "[18, 1, 18, 1, 18, 1, 18, 1, 18, 1, 18, 1, 18, 1, 18, 1, 18, 1]\n",
      "\u001b[0m\n"
     ]
    }
   ],
   "source": [
    "n = 19\n",
    "# Print a table of all number exponentation between 1 and n\n",
    "for a in range(1,n):\n",
    "  isPrimitiveRoot = True\n",
    "  v = [0] * (n-1)\n",
    "  for k in range(1,n):\n",
    "    v[k-1] = pow(a,k,n)\n",
    "    if v[k-1] == 1 and k < (n-1):\n",
    "      isPrimitiveRoot = False\n",
    "      \n",
    "  # Print in green if it is a primitive root, else print in red\n",
    "  print(\"\\u001b[32m\" if isPrimitiveRoot else \"\\u001b[31m\")\n",
    "  print(v)\n",
    "print(\"\\u001b[0m\")\n",
    "\n"
   ]
  },
  {
   "cell_type": "markdown",
   "metadata": {
    "id": "gTqAqQsSZrUG"
   },
   "source": [
    "If $n$ is a prime, set of powers by **primitive root** generates all residues of $n$, nevertheless a no primitive root can simplify calculation of discrete logarithm."
   ]
  },
  {
   "cell_type": "markdown",
   "metadata": {
    "id": "subLGZvnxR6j"
   },
   "source": [
    "### Discrete Logarithm\n"
   ]
  },
  {
   "cell_type": "markdown",
   "metadata": {
    "id": "B-rMXRpLxVbc"
   },
   "source": [
    "Discrete logarithm $a \\mod p$ is inverse of discrete exponentation:\n",
    "\n",
    "$$ b = a^i \\mod p $$\n",
    "\n",
    "Discrete logarithm:\n",
    "\n",
    "$$ i = \\log_a b \\mod p$$"
   ]
  },
  {
   "cell_type": "markdown",
   "metadata": {
    "id": "U43Cv4xNz9Kv"
   },
   "source": [
    "$\\text{If a is not a primitive root of p} \\implies i \\text{ could not exists}$"
   ]
  },
  {
   "cell_type": "code",
   "execution_count": 2,
   "metadata": {
    "colab": {
     "base_uri": "https://localhost:8080/"
    },
    "id": "tc8iIUu_z-yM",
    "outputId": "8940b778-ab6d-4453-e098-55c5234343d7"
   },
   "outputs": [
    {
     "name": "stdout",
     "output_type": "stream",
     "text": [
      "None\n"
     ]
    }
   ],
   "source": [
    "n = 19\n",
    "a = 11 # No Primitive Root\n",
    "b = 3\n",
    "i = None\n",
    "# Search in all exponent\n",
    "for k in range(1,n):\n",
    "  res = pow(a,k,n)\n",
    "  if(res == b):\n",
    "    i = k\n",
    "    break\n",
    "print(i)"
   ]
  },
  {
   "cell_type": "markdown",
   "metadata": {
    "id": "PLQaOmRtz_RG"
   },
   "source": [
    "$\\text{If a is not a primitive root of p} \\implies i \\text{ surely exists}$\n",
    "\n"
   ]
  },
  {
   "cell_type": "code",
   "execution_count": 3,
   "metadata": {
    "colab": {
     "base_uri": "https://localhost:8080/"
    },
    "id": "6JFjYi880BG9",
    "outputId": "1c82a396-c5c9-4ccf-fad1-b3142c477a26"
   },
   "outputs": [
    {
     "name": "stdout",
     "output_type": "stream",
     "text": [
      "5\n"
     ]
    }
   ],
   "source": [
    "n = 19\n",
    "a = 10 # Primitive Root\n",
    "b = 3\n",
    "i = None\n",
    "# Search in all exponent\n",
    "for k in range(1,n):\n",
    "  res = pow(a,k,n)\n",
    "  if(res == b):\n",
    "    i = k\n",
    "    break\n",
    "print(i)"
   ]
  },
  {
   "cell_type": "markdown",
   "metadata": {
    "id": "-cL1kkVW0Blg"
   },
   "source": [
    "Discrete exponentation is really simply, instead discrete logarithm has an hard complexity, best algorithm is **General number field sieve**."
   ]
  },
  {
   "cell_type": "markdown",
   "metadata": {
    "id": "M18Gmxeu5aYY"
   },
   "source": [
    "## Diffie-Hellman Setup"
   ]
  },
  {
   "cell_type": "markdown",
   "metadata": {
    "id": "WknW5miR5euC"
   },
   "source": [
    "In the Diffie-Hellman key exchange algorithm, there are two publicly known numbers: \n",
    "- $q$ prime number \n",
    "- $a$ primitive root of q. \n",
    "\n",
    "Note that the primitive root $a$ is a number whose powers successively generate all the elements mod q.\n",
    "\n"
   ]
  },
  {
   "cell_type": "code",
   "execution_count": 4,
   "metadata": {
    "id": "P3J_rklD5eb_"
   },
   "outputs": [],
   "source": [
    "import random\n",
    "q = 0xFFFFFFFFFFFFFFFFC90FDAA22168C234C4C6628B80DC1CD129024E088A67CC74020BBEA63B139B22514A08798E3404DDEF9519B3CD3A431B302B0A6DF25F14374FE1356D6D51C245E485B576625E7EC6F44C42E9A637ED6B0BFF5CB6F406B7EDEE386BFB5A899FA5AE9F24117C4B1FE649286651ECE45B3DC2007CB8A163BF0598DA48361C55D39A69163FA8FD24CF5F83655D23DCA3AD961C62F356208552BB9ED529077096966D670C354E4ABC9804F1746C08CA237327FFFFFFFFFFFFFFFF\n",
    "a = 2"
   ]
  },
  {
   "cell_type": "markdown",
   "metadata": {
    "id": "enYgEJRS6n1U"
   },
   "source": [
    "Alice and Bob generates theirs key:\n",
    "\n",
    "- choosing a secret number $x_a \\lt q $ \n",
    "- computing their public key $y_a = a^{x_a} \\mod q$\n",
    "\n"
   ]
  },
  {
   "cell_type": "markdown",
   "metadata": {
    "id": "EmAxBCP487JC"
   },
   "source": [
    "Alice:"
   ]
  },
  {
   "cell_type": "code",
   "execution_count": 5,
   "metadata": {
    "colab": {
     "base_uri": "https://localhost:8080/"
    },
    "id": "7gP7InM46ner",
    "outputId": "37761146-db09-4f50-9782-1ca99bfebabc"
   },
   "outputs": [
    {
     "name": "stdout",
     "output_type": "stream",
     "text": [
      "2328859373960470365400113250629236090839494961971236743987550543159703095900818242257873491448391681983388357054009770887789730628106585890418251328340811931503920452508592307179659117721099649494285465184527969391418436285742081514654089813912611942244922606518456222153128242760302746615928462898684062566740451854903614641061557350079225172546674170132353591900667172920640079096725284024554210579358595327452182421918167628935721727701935500228540264971855492\n"
     ]
    }
   ],
   "source": [
    "xa = random.randint(1,q-1)\n",
    "ya = pow(a,xa,q)\n",
    "print(ya)"
   ]
  },
  {
   "cell_type": "markdown",
   "metadata": {
    "id": "Q9Mx0zA688SC"
   },
   "source": [
    "Bob:"
   ]
  },
  {
   "cell_type": "code",
   "execution_count": 6,
   "metadata": {
    "colab": {
     "base_uri": "https://localhost:8080/"
    },
    "id": "2GewrO0C81pu",
    "outputId": "56fe29c9-3c96-49a8-ea58-ed01f3a260b9"
   },
   "outputs": [
    {
     "name": "stdout",
     "output_type": "stream",
     "text": [
      "196440691042602834525056796877620478101678809065713230346998489261278496283843479316307467660569988047386904311462328145320018827153506123091478490078164120284373770490000084487257902030759260726521508460331706948290248152465509249974575921006223052357022884146974220683493412503836810884064559353866568609580525648603505748311418384958471125244332082483987654549206977971138613218560621944030474402762742591376515136522258739089132945218787944344314989585101277\n"
     ]
    }
   ],
   "source": [
    "xb = random.randint(1,q-1)\n",
    "yb = pow(a,xb,q)\n",
    "print(yb)"
   ]
  },
  {
   "cell_type": "markdown",
   "metadata": {
    "id": "A84tWPrp7oNc"
   },
   "source": [
    "An attacker could easily retrieve public key $y_a$ but he/she cannot recover $x_a$ easily."
   ]
  },
  {
   "cell_type": "markdown",
   "metadata": {
    "id": "JlVM3JSy8xf9"
   },
   "source": [
    "## Diffie-Hellman Key Exchange"
   ]
  },
  {
   "cell_type": "markdown",
   "metadata": {
    "id": "t77hV9Fg8w6Q"
   },
   "source": [
    "The actual key exchange for either party consists of raising the others \"public key' to power of their private key. \n",
    "\n",
    "**Shared Key**:\n",
    "\n",
    "$$K_{ab} = a^{x_a \\cdot x_b} \\mod q$$\n",
    "\n",
    "Alice can easily compute it throught Bob public key and own private number\n",
    "\n",
    "$$y_b^{x_a} \\mod q = K_{ab}$$"
   ]
  },
  {
   "cell_type": "code",
   "execution_count": 7,
   "metadata": {
    "colab": {
     "base_uri": "https://localhost:8080/"
    },
    "id": "sg5Gi88u9lCm",
    "outputId": "edebb576-78f4-4465-de73-5399fbe0b52d"
   },
   "outputs": [
    {
     "name": "stdout",
     "output_type": "stream",
     "text": [
      "602597074566960626653882900354758907772354068106958648433679648056719568465570704923107484063077136398246441751260425813058857915880325244055687112452065395232915029635892966130846693221325843507679898459530330609690084146492228413070902535857821143883965564579711083300635430616527781093833999886596184277593839837168427123648113447482872899839156753204879501616980589672284918051013611523962794097981111648053312234658527720514628773051807801337681755229224138\n"
     ]
    }
   ],
   "source": [
    "Ka = pow(yb,xa,q)\n",
    "print(Ka)"
   ]
  },
  {
   "cell_type": "markdown",
   "metadata": {
    "id": "v56pQdcE9wIb"
   },
   "source": [
    "Bob can also compute it throught Alice public key and own private number:\n",
    "\n",
    "$$y_a^{x_b} \\mod q = K_{ab}$$"
   ]
  },
  {
   "cell_type": "code",
   "execution_count": 8,
   "metadata": {
    "colab": {
     "base_uri": "https://localhost:8080/"
    },
    "id": "SYYbslNp99IV",
    "outputId": "312e934d-f61d-46ff-a8d8-079c810c53d2"
   },
   "outputs": [
    {
     "name": "stdout",
     "output_type": "stream",
     "text": [
      "602597074566960626653882900354758907772354068106958648433679648056719568465570704923107484063077136398246441751260425813058857915880325244055687112452065395232915029635892966130846693221325843507679898459530330609690084146492228413070902535857821143883965564579711083300635430616527781093833999886596184277593839837168427123648113447482872899839156753204879501616980589672284918051013611523962794097981111648053312234658527720514628773051807801337681755229224138\n"
     ]
    }
   ],
   "source": [
    "Kb = pow(ya,xb,q)\n",
    "print(Kb)"
   ]
  },
  {
   "cell_type": "markdown",
   "metadata": {
    "id": "DDgZQ9EK-KU8"
   },
   "source": [
    "The resulting number (or as much of as is necessary) is used as the key for a block cipher or other private key scheme.\n",
    "\n",
    "For an attacker to obtain the same value they need at least one of the secret numbers, which means solving a discrete log, which is computationally infeasible given large enough numbers."
   ]
  },
  {
   "cell_type": "markdown",
   "metadata": {
    "id": "gLS0vJyW_B7Y"
   },
   "source": [
    "## Diffie-Hellman Protocol"
   ]
  },
  {
   "cell_type": "markdown",
   "metadata": {
    "id": "ugG9Ih4v_Qgv"
   },
   "source": [
    "![protocol.png](data:image/png;base64,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)"
   ]
  },
  {
   "cell_type": "markdown",
   "metadata": {
    "id": "vZ35FT3p_rGu"
   },
   "source": [
    "Diffie-Hellman provides to share a key in a secure way online, nevertheless this protocol is vulnerable to MITM attack.\n",
    "\n"
   ]
  },
  {
   "cell_type": "markdown",
   "metadata": {
    "id": "t0Ikp96aCrpx"
   },
   "source": [
    "![MITM.png](data:image/png;base64,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)"
   ]
  },
  {
   "cell_type": "markdown",
   "metadata": {
    "id": "c8C3rnPSEJ8d"
   },
   "source": [
    "Alice and Bob identity can be proved, an attacker can stay in the middle and share a key for each party. Alice and Bob will not notify nothing, because attacker can encrypt and decrypt messages arbitrary."
   ]
  }
 ],
 "metadata": {
  "colab": {
   "collapsed_sections": [],
   "name": "Diffie-Hellman.ipynb",
   "provenance": []
  },
  "kernelspec": {
   "display_name": "Python 3",
   "language": "python",
   "name": "python3"
  },
  "language_info": {
   "codemirror_mode": {
    "name": "ipython",
    "version": 3
   },
   "file_extension": ".py",
   "mimetype": "text/x-python",
   "name": "python",
   "nbconvert_exporter": "python",
   "pygments_lexer": "ipython3",
   "version": "3.7.3"
  }
 },
 "nbformat": 4,
 "nbformat_minor": 1
}
