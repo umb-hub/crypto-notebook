{
 "cells": [
  {
   "cell_type": "code",
   "execution_count": 1,
   "metadata": {},
   "outputs": [],
   "source": [
    "from Crypto.Util.number import *"
   ]
  },
  {
   "cell_type": "markdown",
   "metadata": {
    "id": "nnbI-V_bGCen"
   },
   "source": [
    "# Theory of Numbers and finite fields"
   ]
  },
  {
   "cell_type": "markdown",
   "metadata": {
    "id": "cxjcSwwrISoh"
   },
   "source": [
    "## Divisibility"
   ]
  },
  {
   "cell_type": "markdown",
   "metadata": {
    "id": "cLeEvjJDGSvi"
   },
   "source": [
    "A non-zero number $b$ **divides** $a$ if exists a number $m$ that $a=mb$.\n",
    "\n",
    "$$b \\neq 0, b|a \\iff \\exists m: a=mb \\land a,b,m \\in N$$\n",
    "\n",
    "In other words, $b$ divides a without a remainder and $b$ is **divisor** of $a$."
   ]
  },
  {
   "cell_type": "markdown",
   "metadata": {
    "id": "Il4-vjOaILMc"
   },
   "source": [
    "### Divisibility Properties"
   ]
  },
  {
   "cell_type": "markdown",
   "metadata": {
    "id": "qkN5vcDqIOnF"
   },
   "source": [
    "There are some properties on divisibility:\n",
    "\n",
    "$$a|1 \\implies a=\\pm 1$$\n",
    "$$a|b \\land b|a \\implies a=\\pm b$$\n",
    "$$\\forall b \\neq 0 \\implies b|0$$\n",
    "$$a|b \\land b|c \\implies a|c$$\n",
    "$$b|g \\land b|h \\implies \\forall m,n \\in N, b|(mg+nh)$$\n",
    "\n",
    "\n",
    "\n",
    "\n",
    "\n"
   ]
  },
  {
   "cell_type": "markdown",
   "metadata": {
    "id": "ysHqXq-jJkEZ"
   },
   "source": [
    "## Greatest Common Divisor\n",
    "\n",
    "An important problem in theory number is determining GCD (Greatest Common Divisor).\n",
    "\n",
    "$GCD(a,b)$ is greatest divisor for $a$ and $b$."
   ]
  },
  {
   "cell_type": "markdown",
   "metadata": {
    "id": "o8iuL2KDKJai"
   },
   "source": [
    "# Prime Number"
   ]
  },
  {
   "cell_type": "markdown",
   "metadata": {
    "id": "dSu1DYFwKgWP"
   },
   "source": [
    "A number is prime if only numbers that divide it are 1 and itself.\n",
    "\n",
    "$$a \\text{ is prime} \\iff \\nexists m \\neq 1 \\land m \\neq a : m|a$$"
   ]
  },
  {
   "cell_type": "code",
   "execution_count": 2,
   "metadata": {
    "colab": {
     "base_uri": "https://localhost:8080/"
    },
    "id": "g5HvgmxOKI74",
    "outputId": "da488a03-81cd-42fd-bbca-259f8c2c0df7"
   },
   "outputs": [
    {
     "name": "stdout",
     "output_type": "stream",
     "text": [
      "1053081199\n",
      "886014733\n",
      "750662021\n",
      "541418219\n",
      "1066838023\n",
      "645107669\n",
      "634210001\n",
      "1040609863\n",
      "1032402821\n",
      "745048033\n"
     ]
    }
   ],
   "source": [
    "for i in range(10):\n",
    "  print(getPrime(30))"
   ]
  },
  {
   "cell_type": "markdown",
   "metadata": {
    "id": "uSOl7QmuLlhr"
   },
   "source": [
    "Prime numbers play a critical role in number theory because there are not predictable. Not prime predictable involves that factoring problem is not an easy problem."
   ]
  },
  {
   "cell_type": "markdown",
   "metadata": {
    "id": "rCrSqDTINGft"
   },
   "source": [
    "## Factoring in prime numbers"
   ]
  },
  {
   "cell_type": "markdown",
   "metadata": {
    "id": "QjdvfoMyNJ-W"
   },
   "source": [
    "Factoring a number is finding numbers which divide into it. Through factors a number can be writed as product of powers of primes (**prime factorisation**).\n",
    "\n",
    "$$n = a_0 \\times a_{..} \\times a_m =  \\prod_{i=1}^m a_i$$"
   ]
  },
  {
   "cell_type": "markdown",
   "metadata": {
    "id": "DVzUv5zpOh4j"
   },
   "source": [
    "## Coprime numbers\n",
    "\n",
    "A new concept is relatively prime or coprime numbers:\n",
    "\n",
    "$$\\text{a and b are} \\textbf{ coprime} \\iff GCD(a,b) = 1$$\n",
    "\n",
    "So they are relatively prime if they doesn t have any common factor.\n",
    "\n",
    "Another common problem is to determine the \"greatest common divisor” $GCD(a,b)$ which is the largest number that divides into both $a$ & $b$.\n",
    "\n"
   ]
  },
  {
   "cell_type": "code",
   "execution_count": 3,
   "metadata": {
    "colab": {
     "base_uri": "https://localhost:8080/"
    },
    "id": "RtgT6Y-mSAxF",
    "outputId": "5bd6b5ef-1897-4369-ea82-868dbda56254"
   },
   "outputs": [
    {
     "name": "stdout",
     "output_type": "stream",
     "text": [
      "a = 4\n",
      "b = 74\n",
      "GCD(a,b) = 2\n"
     ]
    }
   ],
   "source": [
    "a = getRandomInteger(8)\n",
    "b = getRandomInteger(8)\n",
    "print(\"a = %d\" %a)\n",
    "print(\"b = %d\" %b)\n",
    "print(\"GCD(a,b) = %d\" %(GCD(a,b)))"
   ]
  },
  {
   "cell_type": "markdown",
   "metadata": {
    "id": "5A8dDaFbP8uP"
   },
   "source": [
    "## Fermat's little theorem\n",
    "\n"
   ]
  },
  {
   "cell_type": "markdown",
   "metadata": {
    "id": "26UzQOmtTGF4"
   },
   "source": [
    "An important theorem in theory number is Fermat's little theorem, because it can be used as **primality test** and useful in factorising problem.\n",
    "\n",
    "$$p \\text{ is prime } \\land GCD(a,p)=1 \\implies a^{p-1} = 1 \\mod p$$\n",
    "\n",
    "or, equivalently:\n",
    "\n",
    "$$p \\text{ is prime } \\land GCD(a,p)=1 \\implies a^p = a \\mod p$$\n",
    "\n",
    "Note:\n",
    "\n",
    "If $p$ is prime then his relative prime $a$ is any number $a \\lt p$, but $a$ could be $a \\gt p$ ."
   ]
  },
  {
   "cell_type": "code",
   "execution_count": 4,
   "metadata": {
    "colab": {
     "base_uri": "https://localhost:8080/"
    },
    "id": "Cw9mZmqPIKt3",
    "outputId": "f0f1d6b1-a1b8-4a05-a7ae-3e6f87752ab1"
   },
   "outputs": [
    {
     "name": "stdout",
     "output_type": "stream",
     "text": [
      "p = 151\n",
      "a = 6\n",
      "Coprimes\n",
      "a^(p-1) mod p = 1\n"
     ]
    }
   ],
   "source": [
    "p = getPrime(8)\n",
    "a = getRandomInteger(7)\n",
    "print(\"p = %d\" %p)\n",
    "print(\"a = %d\" %a)\n",
    "print(\"Coprimes\" if GCD(a,p) == 1 else \"Not coprimes\")\n",
    "print(\"a^(p-1) mod p = %d\" % pow(a,p-1,p))"
   ]
  },
  {
   "cell_type": "markdown",
   "metadata": {
    "id": "1rlrugy4VWEj"
   },
   "source": [
    "## Primality test "
   ]
  },
  {
   "cell_type": "markdown",
   "metadata": {
    "id": "ihGtZMr-Z5x-"
   },
   "source": [
    "In order to determine primes numbers, there exists two approachs:\n",
    "\n",
    "- Sieve techniques\n",
    "- Statistical techniques"
   ]
  },
  {
   "cell_type": "markdown",
   "metadata": {
    "id": "axTVMP6naQ6H"
   },
   "source": [
    "### Sieve Eratosthenes"
   ]
  },
  {
   "cell_type": "markdown",
   "metadata": {
    "id": "gpt_GEcwaVrS"
   },
   "source": [
    "This techniques is really simple, in order to determine if $n$ is prime, I divide it by any number prime $m < \\sqrt(n)$."
   ]
  },
  {
   "cell_type": "code",
   "execution_count": 5,
   "metadata": {
    "colab": {
     "base_uri": "https://localhost:8080/"
    },
    "id": "Y2kaJOk9GCOa",
    "outputId": "d208c97b-304b-4859-afa0-4b389a0df705"
   },
   "outputs": [
    {
     "name": "stdout",
     "output_type": "stream",
     "text": [
      "2\n",
      "3\n",
      "5\n",
      "7\n",
      "11\n",
      "13\n",
      "17\n",
      "19\n",
      "23\n",
      "29\n"
     ]
    }
   ],
   "source": [
    "def SieveOfEratosthenes(n): \n",
    "    # Create a boolean array \"prime[0..n]\" and initialize\n",
    "    # all entries it as true. A value in prime[i] will\n",
    "    # finally be false if i is Not a prime, else true.\n",
    "    prime = [True for i in range(n + 1)]\n",
    "    p = 2\n",
    "    while (p * p <= n):\n",
    "          \n",
    "        # If prime[p] is not changed, then it is a prime\n",
    "        if (prime[p] == True):\n",
    "              \n",
    "            # Update all multiples of p\n",
    "            for i in range(p * 2, n + 1, p):\n",
    "                prime[i] = False\n",
    "        p += 1\n",
    "    prime[0]= False\n",
    "    prime[1]= False\n",
    "    # Print all prime numbers\n",
    "    for p in range(n + 1):\n",
    "        if prime[p]:\n",
    "            print (p) #Use print(p) for python 3\n",
    "\n",
    "SieveOfEratosthenes(30)\n",
    "  "
   ]
  },
  {
   "cell_type": "markdown",
   "metadata": {
    "id": "3iRDZBRha0Xg"
   },
   "source": [
    "This technique is really simple, but it has a exponential complexity."
   ]
  },
  {
   "cell_type": "markdown",
   "metadata": {
    "id": "7d5ZuIRta56t"
   },
   "source": [
    "### Test Miller Rabin"
   ]
  },
  {
   "cell_type": "markdown",
   "metadata": {
    "id": "DGRiTc4GbqDe"
   },
   "source": [
    "Miller Rabin Test uses Fermat's little theorem in order to dermine if $n$ is certainly not prime or if it is very likely a prime.\n"
   ]
  },
  {
   "cell_type": "code",
   "execution_count": 6,
   "metadata": {
    "colab": {
     "base_uri": "https://localhost:8080/"
    },
    "id": "R5INLM2NTFlf",
    "outputId": "a23e4c75-70d3-4653-ed24-6fb1b94fc88c"
   },
   "outputs": [
    {
     "data": {
      "text/plain": [
       "True"
      ]
     },
     "execution_count": 6,
     "metadata": {},
     "output_type": "execute_result"
    }
   ],
   "source": [
    "import random\n",
    "def is_Prime(n):\n",
    "    \"\"\"\n",
    "    Miller-Rabin primality test.\n",
    " \n",
    "    A return value of False means n is certainly not prime. A return value of\n",
    "    True means n is very likely a prime.\n",
    "    \"\"\"\n",
    "    if n!=int(n):\n",
    "        return False\n",
    "    n=int(n)\n",
    "    #Miller-Rabin test for prime\n",
    "    if n==0 or n==1 or n==4 or n==6 or n==8 or n==9:\n",
    "        return False\n",
    " \n",
    "    if n==2 or n==3 or n==5 or n==7:\n",
    "        return True\n",
    "    s = 0\n",
    "    d = n-1\n",
    "    while d%2==0:\n",
    "        d>>=1\n",
    "        s+=1\n",
    "    assert(2**s * d == n-1)\n",
    " \n",
    "    def trial_composite(a):\n",
    "        if pow(a, d, n) == 1:\n",
    "            return False\n",
    "        for i in range(s):\n",
    "            if pow(a, 2**i * d, n) == n-1:\n",
    "                return False\n",
    "        return True  \n",
    " \n",
    "    for i in range(10):#number of trials \n",
    "        a = random.randrange(2, n)\n",
    "        if trial_composite(a):\n",
    "            return False\n",
    " \n",
    "    return True\n",
    "\n",
    "is_Prime(getPrime(512))\n"
   ]
  },
  {
   "cell_type": "markdown",
   "metadata": {
    "id": "0Q8v9e-ochmW"
   },
   "source": [
    "Miller Rabin test return if number is not prime surely or if test is inconclusive and number is a pseudo-prime:\n",
    "\n",
    "$$ Pr(\\text{n pseudo-prime is not a prime}) \\lt \\frac{1}{4}$$\n",
    "\n",
    "Reapeating test for different values improves probability to check primality of number.\n",
    "\n",
    "$$Pr(\\text{n pseudo-prime is not a prima after t test})  \\gt 1 - \\frac{1}{4^t}$$\n",
    "\n",
    "After 10 tests, pseudo-prime is prime with a probability $ \\gt 0.99999$ "
   ]
  },
  {
   "cell_type": "markdown",
   "metadata": {
    "id": "pQACJeKFgRUF"
   },
   "source": [
    "## Number Prime Distribution"
   ]
  },
  {
   "cell_type": "markdown",
   "metadata": {
    "id": "NQRx4xy9gPaj"
   },
   "source": [
    "**Prime number theorem (PNT)** describes the asymptotic distribution of the prime numbers among the positive integers, that occours every $ln(n)$. \n",
    "\n",
    "Due to PNT, it is necessary test only $0.5 \\cdot ln(n)$ numbers to identify a prime number, nevertheless this is asymptotic distribution, infact can exists prime more near each other, so doesn't exists any function that generates primes number in order."
   ]
  },
  {
   "cell_type": "markdown",
   "metadata": {
    "id": "P4YHc_xWhvgK"
   },
   "source": [
    "## Euler's totient function"
   ]
  },
  {
   "cell_type": "markdown",
   "metadata": {
    "id": "zFPWmbY3hzng"
   },
   "source": [
    "In number theory, **Euler's totient function** $\\phi(n)$ counts the positive integers up to a given integer $n$ that are coprime to $n$.\n",
    "\n",
    "Define **Complete Set of Residues** $CR(n)$ as set $\\{ 0, ..., n-1\\}$.\n",
    "\n",
    "Define **Reduced Set of Residues** $RR(n)$ as set of numbers coprime to $n$.\n",
    "\n",
    "$$a \\in RR(n) \\iff a \\in CR(n) \\land GCD(a,n) = 1$$\n",
    "\n",
    "Euler's totient function $\\phi(n)$ is cardinality of $RR(n)$."
   ]
  },
  {
   "cell_type": "markdown",
   "metadata": {
    "id": "F3HF59Alj28F"
   },
   "source": [
    "In order to calculate totient function, we must counts numbers of residues to exclude in $RR(n)$, so it's needed factorising $n$ in prime numbers.\n",
    "\n",
    "Euler's totient has some properties:\n",
    "\n",
    "$$\\text{If p is prime} \\implies \\phi(p) = p-1$$\n",
    "$$\\text{If p and q are prime} \\implies \\phi(p \\cdot q ) = (p-1) \\cdot (q-1)$$\n",
    "\n",
    "If factorising $n$ then $\\phi(n) = \\prod_{i=1}^m (p_i-1)$ where $p_i$ is a factor of $n$\n",
    "\n"
   ]
  },
  {
   "cell_type": "markdown",
   "metadata": {
    "id": "oOgzcsLaqQlv"
   },
   "source": [
    "## Euler's Theorem"
   ]
  },
  {
   "cell_type": "markdown",
   "metadata": {
    "id": "MWSmU4JGqVhI"
   },
   "source": [
    "Euler's theorem is a Fermat's little theorem's generalization: \n",
    "\n",
    "For any number $n$ and $a$ coprime then $a^{\\phi (n)} \\mod n = 1$\n",
    "\n",
    "$$\\forall a,n \\in N: GCD(a,n) = 1 \\implies a^{\\phi (n)} \\mod n = 1$$"
   ]
  },
  {
   "cell_type": "code",
   "execution_count": 7,
   "metadata": {
    "colab": {
     "base_uri": "https://localhost:8080/"
    },
    "id": "v8VJu1FWTOxU",
    "outputId": "8dbcb110-ec64-47a5-d5e9-97119b1deb8c"
   },
   "outputs": [
    {
     "name": "stdout",
     "output_type": "stream",
     "text": [
      "a^phi(n) mod n = 1\n"
     ]
    }
   ],
   "source": [
    "n = getPrime(8)\n",
    "a = getRandomInteger(3)\n",
    "phin = n-1\n",
    "print(\"a^phi(n) mod n = %d\" %(pow(a,phin,n)))"
   ]
  }
 ],
 "metadata": {
  "colab": {
   "collapsed_sections": [],
   "name": "Math.ipynb",
   "provenance": []
  },
  "kernelspec": {
   "display_name": "Python 3",
   "language": "python",
   "name": "python3"
  },
  "language_info": {
   "codemirror_mode": {
    "name": "ipython",
    "version": 3
   },
   "file_extension": ".py",
   "mimetype": "text/x-python",
   "name": "python",
   "nbconvert_exporter": "python",
   "pygments_lexer": "ipython3",
   "version": "3.7.3"
  }
 },
 "nbformat": 4,
 "nbformat_minor": 1
}
