{
 "cells": [
  {
   "cell_type": "code",
   "execution_count": 12,
   "metadata": {},
   "outputs": [],
   "source": [
    "from Crypto.Util.number import getPrime, inverse, long_to_bytes, bytes_to_long, GCD\n",
    "import random"
   ]
  },
  {
   "cell_type": "markdown",
   "metadata": {},
   "source": [
    "# RSA\n",
    "\n",
    "The most famous asymmetric encryption algorithm is RSA, from the authors Rivest, Shamir, Adleman, developed in 1977 and still used in practice today.\n",
    "\n",
    "RSA is based on exponentiation of integers modulo n, using large integers (typically 2048 bits), exponentiation is easy to compute(requires $O(log{n})^3)$ operations). Nevertheless, security is guaranteed by the cost of factoring large numbers: factoring is difficult (requires $O(e^{log{n}\\cdot log{log{n}}})$ operations)"
   ]
  },
  {
   "cell_type": "markdown",
   "metadata": {},
   "source": [
    "## RSA Key Generation\n",
    "\n",
    "In order to generate a pair of public/private keys, an user:\n",
    "\n",
    "- Randomly choose two very large prime numbers: $p,q$"
   ]
  },
  {
   "cell_type": "code",
   "execution_count": 13,
   "metadata": {},
   "outputs": [
    {
     "name": "stdout",
     "output_type": "stream",
     "text": [
      "p = 8454184765536934402978499526367255654701447006340963670199776615703794736328236531721815412682282959673539395217982558584118048102404577861531280169369211\n",
      "q = 12602280893371906279412089437460093951603037864037836859427999056791032168534355544530449108160862975669744748825176022858709961408887033361022771287122533\n"
     ]
    }
   ],
   "source": [
    "p = getPrime(512)\n",
    "q = getPrime(512)\n",
    "print(\"p = %d\" %p)\n",
    "print(\"q = %d\" %q)"
   ]
  },
  {
   "cell_type": "markdown",
   "metadata": {},
   "source": [
    "- Computes module $N = p \\cdot q$ and its Euler totien is $\\phi(N) = (p-1)\\cdot (q-1)$"
   ]
  },
  {
   "cell_type": "code",
   "execution_count": 14,
   "metadata": {},
   "outputs": [
    {
     "name": "stdout",
     "output_type": "stream",
     "text": [
      "N = 106542011139761957714063515826040247491132190967454766905360902316127571450500856727160818647965030486356799051690883568192906472818959872753933120364481996248989619514579490941765094244740566854472845540100160512678694371815346190680536841624883854466318370905250471731020562389408023662569298265637874531463\n",
      "pIN = 106542011139761957714063515826040247491132190967454766905360902316127571450500856727160818647965030486356799051690883568192906472818959872753933120364481975192523960605738808551176130417390960549987975161299630884903021876988441328088460589360363011320383027621106428572439119561398512370958075711586418039720\n"
     ]
    }
   ],
   "source": [
    "N = p*q\n",
    "pIN = (p-1)*(q-1)\n",
    "print(\"N = %d\" %N)\n",
    "print(\"pIN = %d\" %pIN)"
   ]
  },
  {
   "cell_type": "markdown",
   "metadata": {},
   "source": [
    "- Randomly choose public key $e$ such that:\n",
    "\n",
    "$$ 1 \\lt e \\lt \\phi(N) : gcd(e,\\phi(N)) = 1$$"
   ]
  },
  {
   "cell_type": "code",
   "execution_count": 20,
   "metadata": {},
   "outputs": [
    {
     "name": "stdout",
     "output_type": "stream",
     "text": [
      "e = 93709520440469333662088134280802649470902530273241811884133437203018514699109791967180287214596617194071595369117852054523338053467716938610946597149596872388375941699692439959317059279619560885622894856866354283904995308928361183709647290415085431220209095621172628732376523715108314216071965106727414982047\n"
     ]
    }
   ],
   "source": [
    "while True:\n",
    "    e = random.randint(2,pIN)\n",
    "    if GCD(e,pIN) == 1:\n",
    "        break\n",
    "print(\"e = %d\" %e)"
   ]
  },
  {
   "cell_type": "markdown",
   "metadata": {},
   "source": [
    "- Determines private key $d$ as inverse modulo of $e$ in $\\phi(n)$:\n",
    "\n",
    "$$ ed = 1 \\mod \\phi(N) \\implies d = e^{-1} \\mod \\phi(N) $$\n",
    "\n"
   ]
  },
  {
   "cell_type": "code",
   "execution_count": 25,
   "metadata": {},
   "outputs": [
    {
     "name": "stdout",
     "output_type": "stream",
     "text": [
      "d = 98051411079002250489911719704820297186805963336685239111729262308319212890139566764218608829757013972106302786084885491878392327698350405295036575802906008977089203227634088888314153385849847979188239037182175067824985517210495938079608091102198491909950301952702757855743759375019992858612107797303858040623\n"
     ]
    }
   ],
   "source": [
    "d = inverse(e,pIN)\n",
    "print(\"d = %d\" %d)"
   ]
  },
  {
   "cell_type": "markdown",
   "metadata": {},
   "source": [
    "- Share public key $\\langle N,e \\rangle$ and keeps private key $\\langle N,d \\rangle$."
   ]
  },
  {
   "cell_type": "markdown",
   "metadata": {},
   "source": [
    "## RSA Encryption/Decryption\n",
    "\n",
    "After Alice and Bob generate and share their keys, Alice can encrypt a message $M$ for Bob through his public key $\\langle N,e \\rangle$:\n",
    "\n",
    "$$ C = M^e \\mod N : M \\lt N $$\n",
    "\n"
   ]
  },
  {
   "cell_type": "code",
   "execution_count": 22,
   "metadata": {},
   "outputs": [
    {
     "name": "stdout",
     "output_type": "stream",
     "text": [
      "c = 82980749130567436396322635853788353788608209375517186184165408467267653528158969133143855612296373155596163330605230148626648698332683258778537236754890688764869278981571496454920099635832179184766498397231406530904707385740510513065364361884599938168754357589995007327970926980030540770919264552864462165275\n"
     ]
    }
   ],
   "source": [
    "m = bytes_to_long(b\"this is a message from Alice\")\n",
    "c = pow(m,e,N)\n",
    "print(\"c = %d\" %c)"
   ]
  },
  {
   "cell_type": "markdown",
   "metadata": {},
   "source": [
    "Bob receive ciphertext $C$ that can easily decrypt throught his private key $\\langle N,d \\rangle$:\n",
    "\n",
    "$$ M = C^d \\mod N$$\n",
    "\n"
   ]
  },
  {
   "cell_type": "code",
   "execution_count": 19,
   "metadata": {},
   "outputs": [
    {
     "data": {
      "text/plain": [
       "b'this is a message from Alice'"
      ]
     },
     "execution_count": 19,
     "metadata": {},
     "output_type": "execute_result"
    }
   ],
   "source": [
    "m = pow(c,d,N)\n",
    "long_to_bytes(m)"
   ]
  },
  {
   "cell_type": "markdown",
   "metadata": {},
   "source": [
    "### Dimonstration:\n",
    "\n",
    "Choosing $d$ as inverse $e$ in modulo $\\phi(N)$ ($ed = 1 \\mod \\phi(N)$), then:\n",
    "\n",
    "$$ ed = 1 + k \\cdot \\phi(N) : k \\in \\mathbb{N}$$\n",
    "\n",
    "Hence, using Euler's threorem ($a^{\\phi(N)} \\mod N = 1$ where $gcd(a,n) = 1$:\n",
    "\n",
    "$ M = C^d \\mod N = $\n",
    "\n",
    "$ M^{ed} \\mod (N)= $\n",
    "\n",
    "$ M^{1+k\\cdot\\phi(N)} \\mod N = $\n",
    "\n",
    "$ M \\cdot (M^{\\phi(N)})^k \\mod N = $\n",
    "\n",
    "$ M \\cdot (1)^k \\mod N = M $\n",
    "\n",
    "### Why private key cannot be reversed ?\n",
    "\n",
    "Choosing $d$ as inverse $e$ in modulo:\n",
    "\n",
    "$$ d = e^{-1} \\mod \\phi(N)$$\n",
    "\n",
    "In order to calculate $d$, it need to known Euler Totien $\\phi(N)$, so to calculate it then it need factorise $N$ in $p,q$."
   ]
  },
  {
   "cell_type": "markdown",
   "metadata": {},
   "source": [
    "## Fail Encryption\n",
    "\n",
    "Encryption uses exponentation to power $e$, obliviosly $e$ cannot be an even due to condition $gcd(e,\\phi(N)) = 1$, because $\\phi(N) = (p-1)*(q-1)$ is surely an even number."
   ]
  },
  {
   "cell_type": "code",
   "execution_count": 28,
   "metadata": {},
   "outputs": [
    {
     "name": "stdout",
     "output_type": "stream",
     "text": [
      "e = 38999006503976726131784194848160991191237921312644861593642146509096532993386114850209657571677579161799159907168245754613901595925385611930461105473432951850260352315115278623454687501657695544519670654823542784812289285490378802780070729526374376554729460827447017095347029868911847943570920791861237540276\n",
      "d = 996782827162893571542703236208591588540972926527337535754955075387658878729844541149779779832936316233243582008012070891918316326959535056382259487199883883670556066654484960451792342377145393683302735817886853042403029972725188979724043807805713854294185415246980041260018497700069231573044818588744922229\n",
      "c = 27619670001298941370164986820494773726246187109255518179957251262204804381228017770332491065572849719602818196014584480801783687158041847066820795656181021790522535329685257011629061108140187599483266143539030618526227040638181924287144787561787741867743224168395458335099030457397703890178334192034695257574\n"
     ]
    },
    {
     "data": {
      "text/plain": [
       "b'R\\x19h9\\xea\\xfd\\xfe\\xdc\\xf0y74\\xaf\\xa4T\\r2\\x88\\xcb\\xf6+?g\\xba\\x0f\\xae\\xf3v=@\\xbe\\x83\\x00\\x12\\xe93\\xde#\\x020\\xe7:-\\xde\\xc7\\xd3Cv\\xa9\\xae\\xb6:\\xd0\\xf8\\x91%\\xc0\\xde\\xe8\\x04\\x07\\xfd6\\xb4&\\xfd\\xcb\\xf4\\xf6\\xec\\xda\\xbb\\xb7\\xd4\\xd24\\x89\\x0f\\xa6\\xa5\\xc7\\xe6s\\x95\\xf1\\xca\\x82\\xe9\\x8e\\x89\\x06\\xe3\\xa2\\x91\\x84\\x18\\r\\xa2\\xec\\x15\\x81&\\x88\\x08/\\xf0\\xe8\\xc07\\x04nmi\\xf4\\xac:Y|\\xd5\\xd0D\\x87W\\xb1\\x97nj\\x11'"
      ]
     },
     "execution_count": 28,
     "metadata": {},
     "output_type": "execute_result"
    }
   ],
   "source": [
    "e = random.randint(2,pIN//2)\n",
    "e *= 2\n",
    "print(\"e = %d\" %e)\n",
    "d = inverse(e,pIN)\n",
    "print(\"d = %d\" %d)\n",
    "m = bytes_to_long(b\"this is a message from Alice\")\n",
    "c = pow(m,e,N)\n",
    "print(\"c = %d\" %c)\n",
    "m = pow(c,d,N)\n",
    "long_to_bytes(m)"
   ]
  },
  {
   "cell_type": "markdown",
   "metadata": {},
   "source": [
    "If $e$ is not coprime in $\\phi(N)$ then encryption and decryption message will fail due to property violation used in demonstration."
   ]
  },
  {
   "cell_type": "markdown",
   "metadata": {},
   "source": [
    "## Efficient Encryption\n",
    "\n",
    "For an efficient RSA encryption, can be setted a fixed public exponent $e$ odd and small, because a small exponent will encrypt faster. \n",
    "\n",
    "Nevertheless a very small public exponent $e$ can be subject to attack (Coppersmith & Chinese Remainder Theorem), so usually $e = 65537$.\n",
    "\n",
    "NOTE: using a fixed public exponent is not a weakness, because in any case public exponent $e$ can be recovered by public key."
   ]
  },
  {
   "cell_type": "code",
   "execution_count": 30,
   "metadata": {},
   "outputs": [
    {
     "name": "stdout",
     "output_type": "stream",
     "text": [
      "e = 65537\n",
      "d = 69538345156221947010376838876647871987322878200602372009350635466566319312680991600230465502948016831010148151976403323762936575901109427606535075203178608860036504797449952481446495546086917886472307818859449030345099116349246651646915508947457585932059508468389268385584987705247743513858304294720677352473\n",
      "c = 79963931948564483299693221552799818091675567761993026319485707120516902205883809942444269626284639280549907531071854431368311443436803440891702006430032909548409032172339215859238126029417783993955642348984352894029599084438112118771896602782124013347420058936190117361693679538677126509867266525927462213369\n"
     ]
    },
    {
     "data": {
      "text/plain": [
       "b'this is a message from Alice'"
      ]
     },
     "execution_count": 30,
     "metadata": {},
     "output_type": "execute_result"
    }
   ],
   "source": [
    "e = 65537\n",
    "print(\"e = %d\" %e)\n",
    "d = inverse(e,pIN)\n",
    "print(\"d = %d\" %d)\n",
    "m = bytes_to_long(b\"this is a message from Alice\")\n",
    "c = pow(m,e,N)\n",
    "print(\"c = %d\" %c)\n",
    "m = pow(c,d,N)\n",
    "long_to_bytes(m)"
   ]
  },
  {
   "cell_type": "markdown",
   "metadata": {},
   "source": [
    "## RSA Security\n",
    "\n",
    "Possible approach to attack RSA are:\n",
    "\n",
    "| Method | Description |\n",
    "| :----- | :---------- |\n",
    "| Bruteforce | Infeasible with large prime numbers. |\n",
    "| Mathematical attacks | Based on computing $\\phi(N)$ in order to factorize $N$ |\n",
    "| Timing Attacks | Based on time of decryption |\n",
    "| Chosen Ciphertext Attacks | Based on RSA paddings |\n",
    "\n",
    "### Mathematical Attacks\n",
    "\n",
    "Security of RSA is based on hardness to factoring large integers, but there are particular condition that simplify problem of factoring:\n",
    "\n",
    "- Re-using of prime number\n",
    "- One of prime number is small\n",
    "- Very close primes numbers\n",
    "\n",
    "There exists 3 mathematical approach to attack RSA:\n",
    "\n",
    "- Factorise $N = pq$, in order to compute $\\phi(N)$ and then private key $d$\n",
    "- Determine $\\phi(N)$ e then compute private key $d$\n",
    "- Determine $d$ directly\n",
    "\n",
    "Today RSA 2048 bits is considered secure, ensuring $p,q$ of similar size and matching constraints.\n",
    "\n",
    "### Timing Attacks\n",
    "\n",
    "Paul Kocher in mid 1990' exploted RSA using timing variation in operation, for example multiplying small vs large number, infering on operand size based on time execution.\n",
    "\n",
    "So there are some contermeasures:\n",
    "\n",
    "- Use constant exponentiation time\n",
    "- Add random delays\n",
    "\n",
    "### Chosen-Ciphertext Attacks\n",
    "\n",
    "RSA is vulnerable to CCA (**Chosen Ciphertext Attack**), when an attacker can decrypt an arbitrary ciphertext and get plaintet. Attacker can exploit properties of RSA to get info useful for cryptoanalysis. \n",
    "\n",
    "In order to avoid it, message can be padded using a secure padding OASP (**Optimal Asymmetric Encryption Padding**), that ensure message is larger enough to be not exploited by CCA attacks."
   ]
  },
  {
   "cell_type": "markdown",
   "metadata": {},
   "source": [
    "## CTF Writeups\n",
    "\n",
    "\n",
    "| Title | Complexity | Points | Arguments |\n",
    "| :---- | :--------- | :----- | :-------- |\n",
    "| [Cyber Grabs CTF 0x03 – Unbr34k4bl3](./RSA_CTF/Cyber%20Grabs%20CTF%200x03%20%E2%80%93%20Unbr34k4bl3.ipynb) | a | a | a |\n",
    "\n",
    "| Title | Complexity | Points | Arguments |\n",
    "| :- | :- | :- | :- |-\n",
    "|   | 4.5/5 | 942/1000 | - Multiprime RSA - Rabin Cryptosytem|"
   ]
  }
 ],
 "metadata": {
  "kernelspec": {
   "display_name": "Python 3",
   "language": "python",
   "name": "python3"
  },
  "language_info": {
   "codemirror_mode": {
    "name": "ipython",
    "version": 3
   },
   "file_extension": ".py",
   "mimetype": "text/x-python",
   "name": "python",
   "nbconvert_exporter": "python",
   "pygments_lexer": "ipython3",
   "version": "3.7.3"
  }
 },
 "nbformat": 4,
 "nbformat_minor": 2
}
