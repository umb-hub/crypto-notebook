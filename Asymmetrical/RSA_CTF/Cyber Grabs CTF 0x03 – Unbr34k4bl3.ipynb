{
 "cells": [
  {
   "cell_type": "markdown",
   "metadata": {},
   "source": [
    "# Cyber Grabs CTF 0x03 – Unbr34k4bl3"
   ]
  },
  {
   "cell_type": "markdown",
   "metadata": {},
   "source": [
    "Credits: https://sekai.team/blog/cyber-grabs-ctf-0x03/unbr34k4bl3/"
   ]
  },
  {
   "cell_type": "markdown",
   "metadata": {},
   "source": [
    "## Problem\n",
    "\n"
   ]
  },
  {
   "cell_type": "markdown",
   "metadata": {},
   "source": [
    "```\n",
    "No one can break my rsa encryption, prove me wrong !!\n",
    "\n",
    "Flag Format: cybergrabs{}\n",
    "\n",
    "Author: Mritunjya\n",
    "```\n",
    "\n",
    "In attachment 2 files:\n",
    "\n",
    "source.py\n",
    "\n",
    "```python\n",
    "from Crypto.Util.number import *\n",
    "from secret import *\n",
    "\n",
    "\n",
    "assert (x>2 and x%2 == 0)\n",
    "assert (isPrime(e1) and isPrime(e2))\n",
    "\n",
    "def functor():\n",
    "\tval1 , val2 = 0,0\n",
    "\tfor i in range(x+1):\n",
    "\t\tval1 += pow(e1,i)\n",
    "\tfor j in range(3):\n",
    "\t\tval2 += pow(e2,j)\n",
    "\tassert (val1 == val2)\n",
    "\n",
    "def keygen():\n",
    "\twhile True:\n",
    "\t\tp,q = [getStrongPrime(1024) for _ in range(2)]\n",
    "\t\tif p%4==3 and q%4==3:\n",
    "\t\t\tbreak\n",
    "\n",
    "\tr = 2\n",
    "\twhile True:\n",
    "\t\tr = r*x\n",
    "\t\tif r.bit_length()>1024 and isPrime(r-1):\n",
    "\t\t\tr = r-1\n",
    "\t\t\tbreak\n",
    "\n",
    "\treturn p,q,r\n",
    "\n",
    "\n",
    "functor()\n",
    "p,q,r = keygen()\n",
    "n = p*q*r\n",
    "print(f\"p:{p}\")\n",
    "print(f\"q:{q}\")\n",
    "ip = inverse(p,q)\n",
    "iq = inverse(q,p)\n",
    "c1 = pow(bytes_to_long(flag[0:len(flag)//2].encode('utf-8')),e1,n)\n",
    "c2 = pow(bytes_to_long(flag[len(flag)//2:].encode('utf-8')),e2,n)\n",
    "print(f\"n:{n}\",f\"ip:{ip}\",f\"iq:{iq}\",f\"c1:{c1}\",f\"c2:{c2}\",sep=\"\\n\")\n",
    "```"
   ]
  },
  {
   "cell_type": "markdown",
   "metadata": {},
   "source": [
    "output.txt"
   ]
  },
  {
   "cell_type": "code",
   "execution_count": 1,
   "metadata": {},
   "outputs": [],
   "source": [
    "n=267362205744654830055585746250317245125479735269853713372687604676608285629127977574310510441358104169652444917329986129098240750401425257601282268733834091593200445244725460613298199140690597119199763970064359847666802255456013592631532853951273286284878230893809080250386646832110506402289378691079462364884899662707502858007857457806853302449695351229004051902617728418480990341155900565542195318206284041182555579388392863474548687784403795738945489219689610881075059037192656116884269582257788959555951074322245033492165406470004019896763472332962300128378758934128374039937693688718317737657946435827745981009467876838127075176808098467305627394472135213533754815713468369763665632168616054982745256773112537152292099369137072982289095951236065885648588670059655452986720063260146952425798150221407866669449837430999779776718047668562687216933053536759554900663226163021145439386115076821161003965334731127329486856711654741683760749336235855319144478194501034662638054193682000283319917096796971\n",
    "ip=65491313526527942082900846848440586365393305192439699810712229312474732937502934334921061033822729150056656630858908294464249602368303871630644420585085642204592189073314730233318796675949142968346807766087775542461078648703191450221286915401606901781524237580646760734493950360267230729125514156671619347616\n",
    "iq=97034409222811998555255396847918439343239825222504093225438959283117395075159811973044380473862026342866489725039905931430797650466599952795602909181290621103197493223080488468216279214006070950393096075839913101687588555346523517436421698916141195686143520143972735534402754157166545851899187305574703394138\n",
    "c1=103687839591259628532585171241634220321003599759860095236990117623065664975385083122971507015385215246948744078816596026772744294701233346732383214113445480056584639282712898073542520168025667980980057512174927564196375256682206601425714094930670415979638437119896258396784978194294581076901000507291277729888015413204446158926865037965291316577726275211006619643531704449499845352147547986667837681877488120093302675775792115380914560935989896453159186176952126083066619414338359303033325593504442257083571002878083287293828310810483726711816109297046925744157605591270761804522735216774801135342322479770391505911100485259078064775709124730966391629468398187269096529671187877954443617005248499140455160589093379715757808387108825458007733207099871941497372539249357162437077379731766825184301649010270921003130776410066972952756983157217280397531412843118202051922048479332111760976091302376602674590153876045380552746826056547929265785960676415919260117136285580971488670143947003566230254837742519\n",
    "c2=171159809874438596904787534111610260851529969068192878049771299710688449419966698428704180474774734112617652498954998301185232279153644173070897800123538474930545720934844727376637921072749901149514789723141795042182408704214998390482343965532559149095934231081729041402598776401575561653660624208366051273601230345754361771067242657825194926706328336322383296953817730346429591680463526267530372572332663327157636745578067246913529155120642276894180354494816411827468256127607558873938451944866168777913756913920336763454881108023708284527878322162463081091624350220308273550298342755582044860337692076513609120342318151660103532559583052954725303030103413034880155621982581677423267299780543045375467310718078800411397780269409147558121862038983169509828944551199620508493589091401498720419409158373805529997911655270528589050795214164221299581104149954423726171539700223299445034347915430838395255700425648686205603925507474877720680274914513203566997846945579395522000899007446797091893230195801607\n"
   ]
  },
  {
   "cell_type": "markdown",
   "metadata": {},
   "source": [
    "## Solving"
   ]
  },
  {
   "cell_type": "markdown",
   "metadata": {},
   "source": [
    "Looking at the source code there are some important notes:\n",
    "\n",
    "- $e_1$ and $e_2$ are related through $x$ secret (whom is even number and greater than $2$)\n",
    "- $n=pqr$ is RSA multiprime using all prime factor\n",
    "- $p,q \\equiv 3 \\bmod 4$. This suggests that the cryptosystem is actually a [Rabin cryptosystem](https://en.wikipedia.org/wiki/Rabin_cryptosystem).\n"
   ]
  },
  {
   "cell_type": "markdown",
   "metadata": {},
   "source": [
    "### Finding $e_1$ and $e_2$"
   ]
  },
  {
   "cell_type": "markdown",
   "metadata": {},
   "source": [
    "Looking at functor function:\n",
    "\n",
    "```python\n",
    "assert (x>2 and x%2 == 0)\n",
    "assert (isPrime(e1) and isPrime(e2))\n",
    "\n",
    "def functor():\n",
    "\tval1 , val2 = 0,0\n",
    "\tfor i in range(x+1):\n",
    "\t\tval1 += pow(e1,i)\n",
    "\tfor j in range(3):\n",
    "\t\tval2 += pow(e2,j)\n",
    "\tassert (val1 == val2)\n",
    "```"
   ]
  },
  {
   "cell_type": "markdown",
   "metadata": {},
   "source": [
    "It is possible express it as follow:\n",
    "\n",
    "$$e_2^2 + e_2 + 1 = \\sum_{i=0}^{x=2n}{e_1^i}$$\n",
    "\n",
    "This expression must be assert to use defined cryptographic system, so $e_1$ and $e_2$ are related through $x=2n \\gt 2$. In accorting to assertation some condition must be met:\n",
    "\n",
    "- $e_1 \\ll e_2$\n",
    "- $x$ not so much big\n",
    "\n",
    "Applying $\\mod e_1$ to above equation:\n",
    "\n",
    "$e_2^2 + e_2 + 1 \\mod e_1 = 1 + \\sum_{i=1}^{x=2n}{e_1^i} \\mod e_1$\n",
    "\n",
    "$e_2^2 + e_2 + 1 \\mod e_1 = 1 \\mod e_1$\n",
    "\n",
    "$e_2^2 + e_2 = 0 \\mod e_1$\n",
    "\n",
    "$e_2(e_2 + 1) = 0 \\mod e_1$\n",
    "\n",
    "Below trivial solutions :\n",
    "\n",
    "- $e_2 = 0 \\mod e_1 \\implies e_2 = e_1$\n",
    "- $e_2 + 1 = 0\\mod e_1$\n",
    "\n",
    "First trivial solution $e_2 = e_1$ is not possible solution because $x \\gt 2$ so following expression cannot be true:\n",
    "\n",
    "$$e_1^2 + e_1 + 1 = \\sum_{i=0}^{x=2n}{e_1^i}$$\n",
    "\n",
    "In according to second trivial solution $e_2$ is prime number and greater than $e_1$ (demonstrated above) so $e_2$ must be an odd prime number. \n",
    "\n",
    "$$e_2 \\mod 2 = 1$$\n",
    "$$e_2 + 1 \\mod 2 = 0$$\n",
    "\n",
    "$e_2 + 1$ is an even number so $e_1$ must be an even prime number, but there is only a even prime number.\n",
    "\n",
    "$$e_1=2$$"
   ]
  },
  {
   "cell_type": "markdown",
   "metadata": {},
   "source": [
    "Applying geometric series expansion\n",
    "\n",
    "$$1 + e_2 + e_2^2 = 2^{x + 1} - 1$$\n",
    "\n",
    "We can rearrange this via the quadratic equation to \n",
    "\n",
    "$$e_2 = \\frac{-1 \\pm \\sqrt{1 - 4 (2 - 2^{x + 1})}}{2}$$\n",
    "​​. "
   ]
  },
  {
   "cell_type": "markdown",
   "metadata": {},
   "source": [
    "Trying out a few values using bruteforce"
   ]
  },
  {
   "cell_type": "code",
   "execution_count": 2,
   "metadata": {},
   "outputs": [
    {
     "name": "stdout",
     "output_type": "stream",
     "text": [
      "x = 4\n",
      "e_2 = 5\n"
     ]
    }
   ],
   "source": [
    "from math import sqrt\n",
    "from Crypto.Util.number import isPrime\n",
    "\n",
    "e_1 = 2\n",
    "\n",
    "# Get X even number > 2\n",
    "for x in range(4, 1000, 2):\n",
    "    #Calculate delta\n",
    "    delta = sqrt(1 - 4 * (2-e_1**(x+1)))\n",
    "    #Check delta is a even number\n",
    "    if delta.is_integer() and delta % 2 == 1:\n",
    "        #Calculate solution\n",
    "        e_2 = (-1 + delta) / 2\n",
    "        #Check solution is number prime\n",
    "        if isPrime(int(e_2)):\n",
    "            print(f\"x = {x}\")\n",
    "            print(f\"e_2 = {int(e_2)}\")\n",
    "            break"
   ]
  },
  {
   "cell_type": "markdown",
   "metadata": {},
   "source": [
    "Found a solution:\n",
    "\n",
    "$$e_1 = 2$$\n",
    "$$e_2 = 5$$\n",
    "$$x = 4$$"
   ]
  },
  {
   "cell_type": "markdown",
   "metadata": {},
   "source": [
    "## Calculate $r$"
   ]
  },
  {
   "cell_type": "code",
   "execution_count": 3,
   "metadata": {},
   "outputs": [
    {
     "name": "stdout",
     "output_type": "stream",
     "text": [
      "r = 10407932194664399081925240327364085538615262247266704805319112350403608059673360298012239441732324184842421613954281007791383566248323464908139906605677320762924129509389220345773183349661583550472959420547689811211693677147548478866962501384438260291732348885311160828538416585028255604666224831890918801847068222203140521026698435488732958028878050869736186900714720710555703168729087\n",
      "pq = 25688311640012163917230858147503819076197761010344269014031747594673916182106050785708484676500834134386803793693876675650872736406618636340223105586070022342714353308111910282379846567678541964530271602110701514602798348126459497895653399229392943355950677091626812220993495114787173518319226255004157973061411297174523301624119373367593530367915915284214322924904625597752519784249813347571187945524507950751011251158072828207244219219089026235429276606809961194919995571461975546137946964855621007294313439223185982058209075422440894958621456809718769044742710760921420714265585516573481061217330396773852373253333\n"
     ]
    }
   ],
   "source": [
    "r = 2\n",
    "while True:\n",
    "\tr = r*x\n",
    "\tif r.nbits()>1024 and isPrime(r-1):\n",
    "\t\tr = r-1\n",
    "\t\tbreak\n",
    "print(f\"r = {r}\")\n",
    "\n",
    "pq = n / r\n",
    "print(f\"pq = {int(pq)}\")"
   ]
  },
  {
   "cell_type": "markdown",
   "metadata": {},
   "source": [
    "## Finding $p$ and $q$"
   ]
  },
  {
   "cell_type": "markdown",
   "metadata": {},
   "source": [
    "In order to find $p$ and $q$ it is possible use inverse modules $ip$ and $iq$:\n",
    "\n",
    "$$ip = p^{-1} \\mod q$$\n",
    "$$iq = q^{-1} \\mod p$$\n",
    "\n",
    "Inverse modules are related throught follow expression (see https://math.stackexchange.com/questions/1700673/why-p-cdot-p-1-mod-q-q-cdot-q-1-mod-p-pq-1/1705450#1705450):\n",
    "\n",
    "$$p \\cdot (p^{-1} \\mod q) + q \\cdot(q^{-1} \\mod p) = p \\cdot q + 1$$"
   ]
  },
  {
   "cell_type": "markdown",
   "metadata": {},
   "source": [
    "Solving equation a solution can be find:"
   ]
  },
  {
   "cell_type": "code",
   "execution_count": 4,
   "metadata": {},
   "outputs": [],
   "source": [
    "p,q = var(\"p, q\")\n",
    "eq1 = (ip * p + iq * q - pq - 1 == 0)\n",
    "eq2 = (p * q == pq)\n",
    "solutions = solve((eq1, eq2), (p, q), solution_dict=True)\n"
   ]
  },
  {
   "cell_type": "markdown",
   "metadata": {},
   "source": [
    "Explore solutions in accordance with Rabin cryptosystem"
   ]
  },
  {
   "cell_type": "code",
   "execution_count": 5,
   "metadata": {},
   "outputs": [
    {
     "name": "stdout",
     "output_type": "stream",
     "text": [
      "Found p and q\n",
      "p = 176063173097741148664104359089145423788477383400361597752492045840821437360249359542374966372723996224499016372218339772485880478959284289348284168670207484887892789136253419014976352598592035148148172192007126605099425808464034613303669376160066151180481522308774136265021552630525582690853372018950936388227\n",
      "q = 145903945657910781114921726419359191977233277082579021865422389591099289803191315127166764774577189980761712395623760828770375291742226959377572159906234087829278080117807787308273841127656879014728893089772803725445572058758562663067626290742341269050937102820565754218175277167460621754505331956899498894279\n"
     ]
    }
   ],
   "source": [
    "for sol in solutions:\n",
    "    sol_p = sol[p]\n",
    "    sol_q = sol[q]\n",
    "    if Mod(sol_p, 4)  == 3 and Mod(sol_q, 4) == 3:\n",
    "        print(\"Found p and q\")\n",
    "        print(f\"p = {sol_p}\")\n",
    "        print(f\"q = {sol_q}\")\n",
    "        break\n",
    "        "
   ]
  },
  {
   "cell_type": "markdown",
   "metadata": {},
   "source": [
    "## Recover Message"
   ]
  },
  {
   "cell_type": "markdown",
   "metadata": {},
   "source": [
    "Obtained $p$, $q$ and $r$ then Euler totien can be calculated $\\phi(N)$ in multiRSA\n",
    "\n",
    "$$\\phi(N) = (p-1)\\cdot (q-1) \\cdot (r-1)$$"
   ]
  },
  {
   "cell_type": "code",
   "execution_count": 17,
   "metadata": {},
   "outputs": [
    {
     "name": "stdout",
     "output_type": "stream",
     "text": [
      "phi = 267362205744654830055585746250317245125479735269853713372687604676608285629127977574310510441358104169652444917329986129098240750401425257601282268733834091593200445244725460613298199140690597119199763970064359847666802255456013592631532853951273286284878230893809080250386646832110506402289378691079462364881548650766582572410340734937464528137727450630552312232346275152020932163122127011262350759858911043624370102780510041295289922940815164877890650885577764494747580354121955760272978884126001033004118454394498385210564187135594044543819588291885163550167975536698776785811304317026742996322244862812174538723193659931406576186736196457741025827456324695881666509287817422324101320491526224939438681636270051314877586412810360017940708501482553016708712654956619530588433417029462733027642200281356079632916143262435911808306706202757666522833591328748752533737943390211423013784764978953367770260428241358128467265956803678507305784876289929106372884987746097047353879708362063732652130503103208\n"
     ]
    }
   ],
   "source": [
    "\n",
    "phi = (sol_p - 1) * (sol_q - 1) * (r - 1)\n",
    "print(f\"phi = {phi}\")"
   ]
  },
  {
   "cell_type": "code",
   "execution_count": 15,
   "metadata": {},
   "outputs": [
    {
     "ename": "ZeroDivisionError",
     "evalue": "Inverse does not exist.",
     "output_type": "error",
     "traceback": [
      "\u001b[0;31m---------------------------------------------------------------------------\u001b[0m",
      "\u001b[0;31mZeroDivisionError\u001b[0m                         Traceback (most recent call last)",
      "\u001b[0;32m<ipython-input-15-7a288b95e157>\u001b[0m in \u001b[0;36m<module>\u001b[0;34m\u001b[0m\n\u001b[0;32m----> 1\u001b[0;31m \u001b[0md1\u001b[0m \u001b[0;34m=\u001b[0m \u001b[0mpow\u001b[0m\u001b[0;34m(\u001b[0m\u001b[0mint\u001b[0m\u001b[0;34m(\u001b[0m\u001b[0me_1\u001b[0m\u001b[0;34m)\u001b[0m\u001b[0;34m,\u001b[0m \u001b[0;34m-\u001b[0m\u001b[0mInteger\u001b[0m\u001b[0;34m(\u001b[0m\u001b[0;36m1\u001b[0m\u001b[0;34m)\u001b[0m\u001b[0;34m,\u001b[0m \u001b[0mint\u001b[0m\u001b[0;34m(\u001b[0m\u001b[0mphi\u001b[0m\u001b[0;34m)\u001b[0m\u001b[0;34m)\u001b[0m\u001b[0;34m\u001b[0m\u001b[0;34m\u001b[0m\u001b[0m\n\u001b[0m",
      "\u001b[0;32m/usr/lib/python3/dist-packages/sage/rings/integer.pyx\u001b[0m in \u001b[0;36msage.rings.integer.Integer.__pow__ (build/cythonized/sage/rings/integer.c:14814)\u001b[0;34m()\u001b[0m\n\u001b[1;32m   2195\u001b[0m         \u001b[0;32mif\u001b[0m \u001b[0mmodulus\u001b[0m \u001b[0;32mis\u001b[0m \u001b[0;32mnot\u001b[0m \u001b[0;32mNone\u001b[0m\u001b[0;34m:\u001b[0m\u001b[0;34m\u001b[0m\u001b[0;34m\u001b[0m\u001b[0m\n\u001b[1;32m   2196\u001b[0m             \u001b[0;32mfrom\u001b[0m \u001b[0msage\u001b[0m\u001b[0;34m.\u001b[0m\u001b[0mrings\u001b[0m\u001b[0;34m.\u001b[0m\u001b[0mfinite_rings\u001b[0m\u001b[0;34m.\u001b[0m\u001b[0minteger_mod\u001b[0m \u001b[0;32mimport\u001b[0m \u001b[0mMod\u001b[0m\u001b[0;34m\u001b[0m\u001b[0;34m\u001b[0m\u001b[0m\n\u001b[0;32m-> 2197\u001b[0;31m             \u001b[0;32mreturn\u001b[0m \u001b[0mMod\u001b[0m\u001b[0;34m(\u001b[0m\u001b[0mleft\u001b[0m\u001b[0;34m,\u001b[0m \u001b[0mmodulus\u001b[0m\u001b[0;34m)\u001b[0m \u001b[0;34m**\u001b[0m \u001b[0mright\u001b[0m\u001b[0;34m\u001b[0m\u001b[0;34m\u001b[0m\u001b[0m\n\u001b[0m\u001b[1;32m   2198\u001b[0m \u001b[0;34m\u001b[0m\u001b[0m\n\u001b[1;32m   2199\u001b[0m         \u001b[0;32mif\u001b[0m \u001b[0mtype\u001b[0m\u001b[0;34m(\u001b[0m\u001b[0mleft\u001b[0m\u001b[0;34m)\u001b[0m \u001b[0;32mis\u001b[0m \u001b[0mtype\u001b[0m\u001b[0;34m(\u001b[0m\u001b[0mright\u001b[0m\u001b[0;34m)\u001b[0m\u001b[0;34m:\u001b[0m\u001b[0;34m\u001b[0m\u001b[0;34m\u001b[0m\u001b[0m\n",
      "\u001b[0;32m/usr/lib/python3/dist-packages/sage/rings/finite_rings/integer_mod.pyx\u001b[0m in \u001b[0;36msage.rings.finite_rings.integer_mod.IntegerMod_gmp.__pow__ (build/cythonized/sage/rings/finite_rings/integer_mod.c:24586)\u001b[0;34m()\u001b[0m\n\u001b[1;32m   2233\u001b[0m         \u001b[0msig_on\u001b[0m\u001b[0;34m(\u001b[0m\u001b[0;34m)\u001b[0m\u001b[0;34m\u001b[0m\u001b[0;34m\u001b[0m\u001b[0m\n\u001b[1;32m   2234\u001b[0m         \u001b[0;32mtry\u001b[0m\u001b[0;34m:\u001b[0m\u001b[0;34m\u001b[0m\u001b[0;34m\u001b[0m\u001b[0m\n\u001b[0;32m-> 2235\u001b[0;31m             \u001b[0mmpz_pow_helper\u001b[0m\u001b[0;34m(\u001b[0m\u001b[0mx\u001b[0m\u001b[0;34m.\u001b[0m\u001b[0mvalue\u001b[0m\u001b[0;34m,\u001b[0m \u001b[0mself\u001b[0m\u001b[0;34m.\u001b[0m\u001b[0mvalue\u001b[0m\u001b[0;34m,\u001b[0m \u001b[0mexp\u001b[0m\u001b[0;34m,\u001b[0m \u001b[0mself\u001b[0m\u001b[0;34m.\u001b[0m\u001b[0m__modulus\u001b[0m\u001b[0;34m.\u001b[0m\u001b[0msageInteger\u001b[0m\u001b[0;34m.\u001b[0m\u001b[0mvalue\u001b[0m\u001b[0;34m)\u001b[0m\u001b[0;34m\u001b[0m\u001b[0;34m\u001b[0m\u001b[0m\n\u001b[0m\u001b[1;32m   2236\u001b[0m         \u001b[0;32mfinally\u001b[0m\u001b[0;34m:\u001b[0m\u001b[0;34m\u001b[0m\u001b[0;34m\u001b[0m\u001b[0m\n\u001b[1;32m   2237\u001b[0m             \u001b[0msig_off\u001b[0m\u001b[0;34m(\u001b[0m\u001b[0;34m)\u001b[0m\u001b[0;34m\u001b[0m\u001b[0;34m\u001b[0m\u001b[0m\n",
      "\u001b[0;32m/usr/lib/python3/dist-packages/sage/rings/finite_rings/integer_mod.pyx\u001b[0m in \u001b[0;36msage.rings.finite_rings.integer_mod.mpz_pow_helper (build/cythonized/sage/rings/finite_rings/integer_mod.c:34718)\u001b[0;34m()\u001b[0m\n\u001b[1;32m   3652\u001b[0m     \u001b[0;32mif\u001b[0m \u001b[0minvert\u001b[0m\u001b[0;34m:\u001b[0m\u001b[0;34m\u001b[0m\u001b[0;34m\u001b[0m\u001b[0m\n\u001b[1;32m   3653\u001b[0m         \u001b[0;32mif\u001b[0m \u001b[0;32mnot\u001b[0m \u001b[0mmpz_invert\u001b[0m\u001b[0;34m(\u001b[0m\u001b[0mres\u001b[0m\u001b[0;34m,\u001b[0m \u001b[0mres\u001b[0m\u001b[0;34m,\u001b[0m \u001b[0mmodulus\u001b[0m\u001b[0;34m)\u001b[0m\u001b[0;34m:\u001b[0m\u001b[0;34m\u001b[0m\u001b[0;34m\u001b[0m\u001b[0m\n\u001b[0;32m-> 3654\u001b[0;31m             \u001b[0;32mraise\u001b[0m \u001b[0mZeroDivisionError\u001b[0m\u001b[0;34m(\u001b[0m\u001b[0;34m\"Inverse does not exist.\"\u001b[0m\u001b[0;34m)\u001b[0m\u001b[0;34m\u001b[0m\u001b[0;34m\u001b[0m\u001b[0m\n\u001b[0m\u001b[1;32m   3655\u001b[0m \u001b[0;34m\u001b[0m\u001b[0m\n\u001b[1;32m   3656\u001b[0m \u001b[0mcdef\u001b[0m \u001b[0mint_fast64_t\u001b[0m \u001b[0mgcd_int64\u001b[0m\u001b[0;34m(\u001b[0m\u001b[0mint_fast64_t\u001b[0m \u001b[0ma\u001b[0m\u001b[0;34m,\u001b[0m \u001b[0mint_fast64_t\u001b[0m \u001b[0mb\u001b[0m\u001b[0;34m)\u001b[0m\u001b[0;34m:\u001b[0m\u001b[0;34m\u001b[0m\u001b[0;34m\u001b[0m\u001b[0m\n",
      "\u001b[0;31mZeroDivisionError\u001b[0m: Inverse does not exist."
     ]
    }
   ],
   "source": [
    "d1 = pow(int(e_1), -1, int(phi))"
   ]
  },
  {
   "cell_type": "markdown",
   "metadata": {},
   "source": []
  },
  {
   "cell_type": "code",
   "execution_count": 14,
   "metadata": {},
   "outputs": [
    {
     "ename": "ZeroDivisionError",
     "evalue": "Inverse does not exist.",
     "output_type": "error",
     "traceback": [
      "\u001b[0;31m---------------------------------------------------------------------------\u001b[0m",
      "\u001b[0;31mZeroDivisionError\u001b[0m                         Traceback (most recent call last)",
      "\u001b[0;32m<ipython-input-14-65588d63c70e>\u001b[0m in \u001b[0;36m<module>\u001b[0;34m\u001b[0m\n\u001b[1;32m      1\u001b[0m \u001b[0;32mfrom\u001b[0m \u001b[0mCrypto\u001b[0m\u001b[0;34m.\u001b[0m\u001b[0mUtil\u001b[0m\u001b[0;34m.\u001b[0m\u001b[0mnumber\u001b[0m \u001b[0;32mimport\u001b[0m \u001b[0mlong_to_bytes\u001b[0m\u001b[0;34m\u001b[0m\u001b[0;34m\u001b[0m\u001b[0m\n\u001b[1;32m      2\u001b[0m \u001b[0mphi\u001b[0m \u001b[0;34m=\u001b[0m \u001b[0;34m(\u001b[0m\u001b[0msol_p\u001b[0m \u001b[0;34m-\u001b[0m \u001b[0mInteger\u001b[0m\u001b[0;34m(\u001b[0m\u001b[0;36m1\u001b[0m\u001b[0;34m)\u001b[0m\u001b[0;34m)\u001b[0m \u001b[0;34m*\u001b[0m \u001b[0;34m(\u001b[0m\u001b[0msol_q\u001b[0m \u001b[0;34m-\u001b[0m \u001b[0mInteger\u001b[0m\u001b[0;34m(\u001b[0m\u001b[0;36m1\u001b[0m\u001b[0;34m)\u001b[0m\u001b[0;34m)\u001b[0m \u001b[0;34m*\u001b[0m \u001b[0;34m(\u001b[0m\u001b[0mr\u001b[0m \u001b[0;34m-\u001b[0m \u001b[0mInteger\u001b[0m\u001b[0;34m(\u001b[0m\u001b[0;36m1\u001b[0m\u001b[0;34m)\u001b[0m\u001b[0;34m)\u001b[0m\u001b[0;34m\u001b[0m\u001b[0;34m\u001b[0m\u001b[0m\n\u001b[0;32m----> 3\u001b[0;31m \u001b[0md1\u001b[0m \u001b[0;34m=\u001b[0m \u001b[0mpow\u001b[0m\u001b[0;34m(\u001b[0m\u001b[0mint\u001b[0m\u001b[0;34m(\u001b[0m\u001b[0me_1\u001b[0m\u001b[0;34m)\u001b[0m\u001b[0;34m,\u001b[0m \u001b[0;34m-\u001b[0m\u001b[0mInteger\u001b[0m\u001b[0;34m(\u001b[0m\u001b[0;36m1\u001b[0m\u001b[0;34m)\u001b[0m\u001b[0;34m,\u001b[0m \u001b[0mint\u001b[0m\u001b[0;34m(\u001b[0m\u001b[0mphi\u001b[0m\u001b[0;34m)\u001b[0m\u001b[0;34m)\u001b[0m\u001b[0;34m\u001b[0m\u001b[0;34m\u001b[0m\u001b[0m\n\u001b[0m\u001b[1;32m      4\u001b[0m \u001b[0md2\u001b[0m \u001b[0;34m=\u001b[0m \u001b[0mpow\u001b[0m\u001b[0;34m(\u001b[0m\u001b[0mint\u001b[0m\u001b[0;34m(\u001b[0m\u001b[0me_2\u001b[0m\u001b[0;34m)\u001b[0m\u001b[0;34m,\u001b[0m \u001b[0;34m-\u001b[0m\u001b[0mInteger\u001b[0m\u001b[0;34m(\u001b[0m\u001b[0;36m1\u001b[0m\u001b[0;34m)\u001b[0m\u001b[0;34m,\u001b[0m \u001b[0mint\u001b[0m\u001b[0;34m(\u001b[0m\u001b[0mphi\u001b[0m\u001b[0;34m)\u001b[0m\u001b[0;34m)\u001b[0m\u001b[0;34m\u001b[0m\u001b[0;34m\u001b[0m\u001b[0m\n\u001b[1;32m      5\u001b[0m \u001b[0mm1\u001b[0m \u001b[0;34m=\u001b[0m \u001b[0mpow\u001b[0m\u001b[0;34m(\u001b[0m\u001b[0mc1\u001b[0m\u001b[0;34m,\u001b[0m \u001b[0md1\u001b[0m\u001b[0;34m,\u001b[0m \u001b[0mn\u001b[0m\u001b[0;34m)\u001b[0m\u001b[0;34m\u001b[0m\u001b[0;34m\u001b[0m\u001b[0m\n",
      "\u001b[0;32m/usr/lib/python3/dist-packages/sage/rings/integer.pyx\u001b[0m in \u001b[0;36msage.rings.integer.Integer.__pow__ (build/cythonized/sage/rings/integer.c:14814)\u001b[0;34m()\u001b[0m\n\u001b[1;32m   2195\u001b[0m         \u001b[0;32mif\u001b[0m \u001b[0mmodulus\u001b[0m \u001b[0;32mis\u001b[0m \u001b[0;32mnot\u001b[0m \u001b[0;32mNone\u001b[0m\u001b[0;34m:\u001b[0m\u001b[0;34m\u001b[0m\u001b[0;34m\u001b[0m\u001b[0m\n\u001b[1;32m   2196\u001b[0m             \u001b[0;32mfrom\u001b[0m \u001b[0msage\u001b[0m\u001b[0;34m.\u001b[0m\u001b[0mrings\u001b[0m\u001b[0;34m.\u001b[0m\u001b[0mfinite_rings\u001b[0m\u001b[0;34m.\u001b[0m\u001b[0minteger_mod\u001b[0m \u001b[0;32mimport\u001b[0m \u001b[0mMod\u001b[0m\u001b[0;34m\u001b[0m\u001b[0;34m\u001b[0m\u001b[0m\n\u001b[0;32m-> 2197\u001b[0;31m             \u001b[0;32mreturn\u001b[0m \u001b[0mMod\u001b[0m\u001b[0;34m(\u001b[0m\u001b[0mleft\u001b[0m\u001b[0;34m,\u001b[0m \u001b[0mmodulus\u001b[0m\u001b[0;34m)\u001b[0m \u001b[0;34m**\u001b[0m \u001b[0mright\u001b[0m\u001b[0;34m\u001b[0m\u001b[0;34m\u001b[0m\u001b[0m\n\u001b[0m\u001b[1;32m   2198\u001b[0m \u001b[0;34m\u001b[0m\u001b[0m\n\u001b[1;32m   2199\u001b[0m         \u001b[0;32mif\u001b[0m \u001b[0mtype\u001b[0m\u001b[0;34m(\u001b[0m\u001b[0mleft\u001b[0m\u001b[0;34m)\u001b[0m \u001b[0;32mis\u001b[0m \u001b[0mtype\u001b[0m\u001b[0;34m(\u001b[0m\u001b[0mright\u001b[0m\u001b[0;34m)\u001b[0m\u001b[0;34m:\u001b[0m\u001b[0;34m\u001b[0m\u001b[0;34m\u001b[0m\u001b[0m\n",
      "\u001b[0;32m/usr/lib/python3/dist-packages/sage/rings/finite_rings/integer_mod.pyx\u001b[0m in \u001b[0;36msage.rings.finite_rings.integer_mod.IntegerMod_gmp.__pow__ (build/cythonized/sage/rings/finite_rings/integer_mod.c:24586)\u001b[0;34m()\u001b[0m\n\u001b[1;32m   2233\u001b[0m         \u001b[0msig_on\u001b[0m\u001b[0;34m(\u001b[0m\u001b[0;34m)\u001b[0m\u001b[0;34m\u001b[0m\u001b[0;34m\u001b[0m\u001b[0m\n\u001b[1;32m   2234\u001b[0m         \u001b[0;32mtry\u001b[0m\u001b[0;34m:\u001b[0m\u001b[0;34m\u001b[0m\u001b[0;34m\u001b[0m\u001b[0m\n\u001b[0;32m-> 2235\u001b[0;31m             \u001b[0mmpz_pow_helper\u001b[0m\u001b[0;34m(\u001b[0m\u001b[0mx\u001b[0m\u001b[0;34m.\u001b[0m\u001b[0mvalue\u001b[0m\u001b[0;34m,\u001b[0m \u001b[0mself\u001b[0m\u001b[0;34m.\u001b[0m\u001b[0mvalue\u001b[0m\u001b[0;34m,\u001b[0m \u001b[0mexp\u001b[0m\u001b[0;34m,\u001b[0m \u001b[0mself\u001b[0m\u001b[0;34m.\u001b[0m\u001b[0m__modulus\u001b[0m\u001b[0;34m.\u001b[0m\u001b[0msageInteger\u001b[0m\u001b[0;34m.\u001b[0m\u001b[0mvalue\u001b[0m\u001b[0;34m)\u001b[0m\u001b[0;34m\u001b[0m\u001b[0;34m\u001b[0m\u001b[0m\n\u001b[0m\u001b[1;32m   2236\u001b[0m         \u001b[0;32mfinally\u001b[0m\u001b[0;34m:\u001b[0m\u001b[0;34m\u001b[0m\u001b[0;34m\u001b[0m\u001b[0m\n\u001b[1;32m   2237\u001b[0m             \u001b[0msig_off\u001b[0m\u001b[0;34m(\u001b[0m\u001b[0;34m)\u001b[0m\u001b[0;34m\u001b[0m\u001b[0;34m\u001b[0m\u001b[0m\n",
      "\u001b[0;32m/usr/lib/python3/dist-packages/sage/rings/finite_rings/integer_mod.pyx\u001b[0m in \u001b[0;36msage.rings.finite_rings.integer_mod.mpz_pow_helper (build/cythonized/sage/rings/finite_rings/integer_mod.c:34718)\u001b[0;34m()\u001b[0m\n\u001b[1;32m   3652\u001b[0m     \u001b[0;32mif\u001b[0m \u001b[0minvert\u001b[0m\u001b[0;34m:\u001b[0m\u001b[0;34m\u001b[0m\u001b[0;34m\u001b[0m\u001b[0m\n\u001b[1;32m   3653\u001b[0m         \u001b[0;32mif\u001b[0m \u001b[0;32mnot\u001b[0m \u001b[0mmpz_invert\u001b[0m\u001b[0;34m(\u001b[0m\u001b[0mres\u001b[0m\u001b[0;34m,\u001b[0m \u001b[0mres\u001b[0m\u001b[0;34m,\u001b[0m \u001b[0mmodulus\u001b[0m\u001b[0;34m)\u001b[0m\u001b[0;34m:\u001b[0m\u001b[0;34m\u001b[0m\u001b[0;34m\u001b[0m\u001b[0m\n\u001b[0;32m-> 3654\u001b[0;31m             \u001b[0;32mraise\u001b[0m \u001b[0mZeroDivisionError\u001b[0m\u001b[0;34m(\u001b[0m\u001b[0;34m\"Inverse does not exist.\"\u001b[0m\u001b[0;34m)\u001b[0m\u001b[0;34m\u001b[0m\u001b[0;34m\u001b[0m\u001b[0m\n\u001b[0m\u001b[1;32m   3655\u001b[0m \u001b[0;34m\u001b[0m\u001b[0m\n\u001b[1;32m   3656\u001b[0m \u001b[0mcdef\u001b[0m \u001b[0mint_fast64_t\u001b[0m \u001b[0mgcd_int64\u001b[0m\u001b[0;34m(\u001b[0m\u001b[0mint_fast64_t\u001b[0m \u001b[0ma\u001b[0m\u001b[0;34m,\u001b[0m \u001b[0mint_fast64_t\u001b[0m \u001b[0mb\u001b[0m\u001b[0;34m)\u001b[0m\u001b[0;34m:\u001b[0m\u001b[0;34m\u001b[0m\u001b[0;34m\u001b[0m\u001b[0m\n",
      "\u001b[0;31mZeroDivisionError\u001b[0m: Inverse does not exist."
     ]
    }
   ],
   "source": [
    "from Crypto.Util.number import long_to_bytes\n",
    "\n",
    "d2 = pow(int(e_2), -1, int(phi))\n",
    "m1 = pow(c1, d1, n)\n",
    "m2 = pow(c2, d2, n)\n",
    "print(long_to_bytes(int(m1)))\n",
    "print(long_to_bytes(int(m2)))"
   ]
  }
 ],
 "metadata": {
  "interpreter": {
   "hash": "9a1c478e150b5d4269ff59b06666df521ebb9c1b601aa15634ab1f30baba5ba0"
  },
  "kernelspec": {
   "display_name": "SageMath 9.0",
   "language": "sage",
   "name": "sagemath"
  },
  "language_info": {
   "codemirror_mode": {
    "name": "ipython",
    "version": 3
   },
   "file_extension": ".py",
   "mimetype": "text/x-python",
   "name": "python",
   "nbconvert_exporter": "python",
   "pygments_lexer": "ipython3",
   "version": "3.8.10"
  },
  "orig_nbformat": 4
 },
 "nbformat": 4,
 "nbformat_minor": 2
}
